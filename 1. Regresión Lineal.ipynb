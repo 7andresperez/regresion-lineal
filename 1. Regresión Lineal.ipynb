{
 "cells": [
  {
   "cell_type": "raw",
   "id": "82ffe067-ad6b-4780-a0e8-6ca6d9be2b9b",
   "metadata": {},
   "source": [
    "UNAD\n",
    "Sergio Andrés Pérez Riaño\n",
    "Predicción Precio de Venta de Vehículos con Regresión Lineal\n",
    "\n",
    "Pasos de la Actividad\n",
    "\n",
    "1. Realizar un análisis exploratorio de los datos para identificar relaciones entre variables, valores atípicos, tendencias, etc.\n",
    "2. Preprocesar los datos limpiándolos, tratando valores faltantes y transformándolos según sea necesario\n",
    "3. Seleccionar las características más relevantes para entrenar el modelo utilizando selección de características\n",
    "4. Dividir el dataset en Train y Test para evaluar correctamente el modelo\n",
    "5. Entrenar el modelo configurando los diferentes hiperparámetros\n",
    "6. Evaluar el desempeño del modelo en el conjunto de Test con métricas como precisión, recall, F1-score, etc\n",
    "7. Realizar las diferentes gráficas que permitan visualizar los resultados del modelo.\n",
    "8. Interpretar, analizar y documentar los resultados obtenidos\n",
    "9. Crear una cuenta en GitHub y cargar los códigos de los modelos diseñados https://github.com/\n",
    "10. Realizar un análisis exploratorio de los datos para identificar relaciones entre variables, valores atípicos, tendencias, etc."
   ]
  },
  {
   "cell_type": "code",
   "execution_count": 598,
   "id": "b0f6099f-693f-48fe-8c1b-429bf0dc2757",
   "metadata": {},
   "outputs": [],
   "source": [
    "#Cargar las librerias necesrias\n",
    "\n",
    "import pandas as pd # Manejo y análisis de estructuras de datos\n",
    "import numpy as np # Cálculo numérico y el análisis de datos\n",
    "import seaborn as sns # Creación gráficos estadísticos\n",
    "import matplotlib.pyplot as plt # Creación de gráficos en dos dimensiones\n",
    "import hvplot.pandas\n",
    "\n",
    "# librerías de para implementar modelos de ciencia de datos\n",
    "from sklearn import metrics\n",
    "from sklearn.model_selection import train_test_split\n",
    "#from sklearn.linear_model import LogisticRegression\n",
    "from sklearn.linear_model import LinearRegression # Librería para Regresión Lineal\n",
    "from sklearn.metrics import classification_report#, confusion_matrix\n",
    "from sklearn.metrics import mean_squared_error, mean_absolute_error, r2_score"
   ]
  },
  {
   "cell_type": "code",
   "execution_count": 599,
   "id": "c72f6555-71db-4652-b11e-20ffa6342fa1",
   "metadata": {},
   "outputs": [],
   "source": [
    "#Leer los datos del archivo CSV\n",
    "df = pd.read_csv('Car details v3.csv')"
   ]
  },
  {
   "cell_type": "code",
   "execution_count": 600,
   "id": "8d35c6c7-0709-4d2f-b1a5-8ea601473072",
   "metadata": {},
   "outputs": [
    {
     "data": {
      "text/html": [
       "<div>\n",
       "<style scoped>\n",
       "    .dataframe tbody tr th:only-of-type {\n",
       "        vertical-align: middle;\n",
       "    }\n",
       "\n",
       "    .dataframe tbody tr th {\n",
       "        vertical-align: top;\n",
       "    }\n",
       "\n",
       "    .dataframe thead th {\n",
       "        text-align: right;\n",
       "    }\n",
       "</style>\n",
       "<table border=\"1\" class=\"dataframe\">\n",
       "  <thead>\n",
       "    <tr style=\"text-align: right;\">\n",
       "      <th></th>\n",
       "      <th>name</th>\n",
       "      <th>year</th>\n",
       "      <th>selling_price</th>\n",
       "      <th>km_driven</th>\n",
       "      <th>fuel</th>\n",
       "      <th>seller_type</th>\n",
       "      <th>transmission</th>\n",
       "      <th>owner</th>\n",
       "      <th>mileage</th>\n",
       "      <th>engine</th>\n",
       "      <th>max_power</th>\n",
       "      <th>torque</th>\n",
       "      <th>seats</th>\n",
       "    </tr>\n",
       "  </thead>\n",
       "  <tbody>\n",
       "    <tr>\n",
       "      <th>0</th>\n",
       "      <td>Maruti Swift Dzire VDI</td>\n",
       "      <td>2014</td>\n",
       "      <td>450000</td>\n",
       "      <td>145500</td>\n",
       "      <td>Diesel</td>\n",
       "      <td>Individual</td>\n",
       "      <td>Manual</td>\n",
       "      <td>First Owner</td>\n",
       "      <td>23.4 kmpl</td>\n",
       "      <td>1248 CC</td>\n",
       "      <td>74 bhp</td>\n",
       "      <td>190Nm@ 2000rpm</td>\n",
       "      <td>5.0</td>\n",
       "    </tr>\n",
       "    <tr>\n",
       "      <th>1</th>\n",
       "      <td>Skoda Rapid 1.5 TDI Ambition</td>\n",
       "      <td>2014</td>\n",
       "      <td>370000</td>\n",
       "      <td>120000</td>\n",
       "      <td>Diesel</td>\n",
       "      <td>Individual</td>\n",
       "      <td>Manual</td>\n",
       "      <td>Second Owner</td>\n",
       "      <td>21.14 kmpl</td>\n",
       "      <td>1498 CC</td>\n",
       "      <td>103.52 bhp</td>\n",
       "      <td>250Nm@ 1500-2500rpm</td>\n",
       "      <td>5.0</td>\n",
       "    </tr>\n",
       "    <tr>\n",
       "      <th>2</th>\n",
       "      <td>Honda City 2017-2020 EXi</td>\n",
       "      <td>2006</td>\n",
       "      <td>158000</td>\n",
       "      <td>140000</td>\n",
       "      <td>Petrol</td>\n",
       "      <td>Individual</td>\n",
       "      <td>Manual</td>\n",
       "      <td>Third Owner</td>\n",
       "      <td>17.7 kmpl</td>\n",
       "      <td>1497 CC</td>\n",
       "      <td>78 bhp</td>\n",
       "      <td>12.7@ 2,700(kgm@ rpm)</td>\n",
       "      <td>5.0</td>\n",
       "    </tr>\n",
       "    <tr>\n",
       "      <th>3</th>\n",
       "      <td>Hyundai i20 Sportz Diesel</td>\n",
       "      <td>2010</td>\n",
       "      <td>225000</td>\n",
       "      <td>127000</td>\n",
       "      <td>Diesel</td>\n",
       "      <td>Individual</td>\n",
       "      <td>Manual</td>\n",
       "      <td>First Owner</td>\n",
       "      <td>23.0 kmpl</td>\n",
       "      <td>1396 CC</td>\n",
       "      <td>90 bhp</td>\n",
       "      <td>22.4 kgm at 1750-2750rpm</td>\n",
       "      <td>5.0</td>\n",
       "    </tr>\n",
       "    <tr>\n",
       "      <th>4</th>\n",
       "      <td>Maruti Swift VXI BSIII</td>\n",
       "      <td>2007</td>\n",
       "      <td>130000</td>\n",
       "      <td>120000</td>\n",
       "      <td>Petrol</td>\n",
       "      <td>Individual</td>\n",
       "      <td>Manual</td>\n",
       "      <td>First Owner</td>\n",
       "      <td>16.1 kmpl</td>\n",
       "      <td>1298 CC</td>\n",
       "      <td>88.2 bhp</td>\n",
       "      <td>11.5@ 4,500(kgm@ rpm)</td>\n",
       "      <td>5.0</td>\n",
       "    </tr>\n",
       "    <tr>\n",
       "      <th>5</th>\n",
       "      <td>Hyundai Xcent 1.2 VTVT E Plus</td>\n",
       "      <td>2017</td>\n",
       "      <td>440000</td>\n",
       "      <td>45000</td>\n",
       "      <td>Petrol</td>\n",
       "      <td>Individual</td>\n",
       "      <td>Manual</td>\n",
       "      <td>First Owner</td>\n",
       "      <td>20.14 kmpl</td>\n",
       "      <td>1197 CC</td>\n",
       "      <td>81.86 bhp</td>\n",
       "      <td>113.75nm@ 4000rpm</td>\n",
       "      <td>5.0</td>\n",
       "    </tr>\n",
       "    <tr>\n",
       "      <th>6</th>\n",
       "      <td>Maruti Wagon R LXI DUO BSIII</td>\n",
       "      <td>2007</td>\n",
       "      <td>96000</td>\n",
       "      <td>175000</td>\n",
       "      <td>LPG</td>\n",
       "      <td>Individual</td>\n",
       "      <td>Manual</td>\n",
       "      <td>First Owner</td>\n",
       "      <td>17.3 km/kg</td>\n",
       "      <td>1061 CC</td>\n",
       "      <td>57.5 bhp</td>\n",
       "      <td>7.8@ 4,500(kgm@ rpm)</td>\n",
       "      <td>5.0</td>\n",
       "    </tr>\n",
       "    <tr>\n",
       "      <th>7</th>\n",
       "      <td>Maruti 800 DX BSII</td>\n",
       "      <td>2001</td>\n",
       "      <td>45000</td>\n",
       "      <td>5000</td>\n",
       "      <td>Petrol</td>\n",
       "      <td>Individual</td>\n",
       "      <td>Manual</td>\n",
       "      <td>Second Owner</td>\n",
       "      <td>16.1 kmpl</td>\n",
       "      <td>796 CC</td>\n",
       "      <td>37 bhp</td>\n",
       "      <td>59Nm@ 2500rpm</td>\n",
       "      <td>4.0</td>\n",
       "    </tr>\n",
       "    <tr>\n",
       "      <th>8</th>\n",
       "      <td>Toyota Etios VXD</td>\n",
       "      <td>2011</td>\n",
       "      <td>350000</td>\n",
       "      <td>90000</td>\n",
       "      <td>Diesel</td>\n",
       "      <td>Individual</td>\n",
       "      <td>Manual</td>\n",
       "      <td>First Owner</td>\n",
       "      <td>23.59 kmpl</td>\n",
       "      <td>1364 CC</td>\n",
       "      <td>67.1 bhp</td>\n",
       "      <td>170Nm@ 1800-2400rpm</td>\n",
       "      <td>5.0</td>\n",
       "    </tr>\n",
       "    <tr>\n",
       "      <th>9</th>\n",
       "      <td>Ford Figo Diesel Celebration Edition</td>\n",
       "      <td>2013</td>\n",
       "      <td>200000</td>\n",
       "      <td>169000</td>\n",
       "      <td>Diesel</td>\n",
       "      <td>Individual</td>\n",
       "      <td>Manual</td>\n",
       "      <td>First Owner</td>\n",
       "      <td>20.0 kmpl</td>\n",
       "      <td>1399 CC</td>\n",
       "      <td>68.1 bhp</td>\n",
       "      <td>160Nm@ 2000rpm</td>\n",
       "      <td>5.0</td>\n",
       "    </tr>\n",
       "    <tr>\n",
       "      <th>10</th>\n",
       "      <td>Renault Duster 110PS Diesel RxL</td>\n",
       "      <td>2014</td>\n",
       "      <td>500000</td>\n",
       "      <td>68000</td>\n",
       "      <td>Diesel</td>\n",
       "      <td>Individual</td>\n",
       "      <td>Manual</td>\n",
       "      <td>Second Owner</td>\n",
       "      <td>19.01 kmpl</td>\n",
       "      <td>1461 CC</td>\n",
       "      <td>108.45 bhp</td>\n",
       "      <td>248Nm@ 2250rpm</td>\n",
       "      <td>5.0</td>\n",
       "    </tr>\n",
       "    <tr>\n",
       "      <th>11</th>\n",
       "      <td>Maruti Zen LX</td>\n",
       "      <td>2005</td>\n",
       "      <td>92000</td>\n",
       "      <td>100000</td>\n",
       "      <td>Petrol</td>\n",
       "      <td>Individual</td>\n",
       "      <td>Manual</td>\n",
       "      <td>Second Owner</td>\n",
       "      <td>17.3 kmpl</td>\n",
       "      <td>993 CC</td>\n",
       "      <td>60 bhp</td>\n",
       "      <td>78Nm@ 4500rpm</td>\n",
       "      <td>5.0</td>\n",
       "    </tr>\n",
       "    <tr>\n",
       "      <th>12</th>\n",
       "      <td>Maruti Swift Dzire VDi</td>\n",
       "      <td>2009</td>\n",
       "      <td>280000</td>\n",
       "      <td>140000</td>\n",
       "      <td>Diesel</td>\n",
       "      <td>Individual</td>\n",
       "      <td>Manual</td>\n",
       "      <td>Second Owner</td>\n",
       "      <td>19.3 kmpl</td>\n",
       "      <td>1248 CC</td>\n",
       "      <td>73.9 bhp</td>\n",
       "      <td>190Nm@ 2000rpm</td>\n",
       "      <td>5.0</td>\n",
       "    </tr>\n",
       "    <tr>\n",
       "      <th>13</th>\n",
       "      <td>Maruti Swift 1.3 VXi</td>\n",
       "      <td>2007</td>\n",
       "      <td>200000</td>\n",
       "      <td>80000</td>\n",
       "      <td>Petrol</td>\n",
       "      <td>Individual</td>\n",
       "      <td>Manual</td>\n",
       "      <td>Second Owner</td>\n",
       "      <td>NaN</td>\n",
       "      <td>NaN</td>\n",
       "      <td>NaN</td>\n",
       "      <td>NaN</td>\n",
       "      <td>NaN</td>\n",
       "    </tr>\n",
       "    <tr>\n",
       "      <th>14</th>\n",
       "      <td>Maruti Wagon R LXI Minor</td>\n",
       "      <td>2009</td>\n",
       "      <td>180000</td>\n",
       "      <td>90000</td>\n",
       "      <td>Petrol</td>\n",
       "      <td>Individual</td>\n",
       "      <td>Manual</td>\n",
       "      <td>Second Owner</td>\n",
       "      <td>18.9 kmpl</td>\n",
       "      <td>1061 CC</td>\n",
       "      <td>67 bhp</td>\n",
       "      <td>84Nm@ 3500rpm</td>\n",
       "      <td>5.0</td>\n",
       "    </tr>\n",
       "    <tr>\n",
       "      <th>15</th>\n",
       "      <td>Mahindra KUV 100 mFALCON G80 K8 5str</td>\n",
       "      <td>2016</td>\n",
       "      <td>400000</td>\n",
       "      <td>40000</td>\n",
       "      <td>Petrol</td>\n",
       "      <td>Individual</td>\n",
       "      <td>Manual</td>\n",
       "      <td>First Owner</td>\n",
       "      <td>18.15 kmpl</td>\n",
       "      <td>1198 CC</td>\n",
       "      <td>82 bhp</td>\n",
       "      <td>115Nm@ 3500-3600rpm</td>\n",
       "      <td>5.0</td>\n",
       "    </tr>\n",
       "    <tr>\n",
       "      <th>16</th>\n",
       "      <td>Maruti Ertiga SHVS VDI</td>\n",
       "      <td>2016</td>\n",
       "      <td>778000</td>\n",
       "      <td>70000</td>\n",
       "      <td>Diesel</td>\n",
       "      <td>Individual</td>\n",
       "      <td>Manual</td>\n",
       "      <td>Second Owner</td>\n",
       "      <td>24.52 kmpl</td>\n",
       "      <td>1248 CC</td>\n",
       "      <td>88.5 bhp</td>\n",
       "      <td>200Nm@ 1750rpm</td>\n",
       "      <td>7.0</td>\n",
       "    </tr>\n",
       "    <tr>\n",
       "      <th>17</th>\n",
       "      <td>Hyundai i20 1.4 CRDi Asta</td>\n",
       "      <td>2012</td>\n",
       "      <td>500000</td>\n",
       "      <td>53000</td>\n",
       "      <td>Diesel</td>\n",
       "      <td>Individual</td>\n",
       "      <td>Manual</td>\n",
       "      <td>Second Owner</td>\n",
       "      <td>23.0 kmpl</td>\n",
       "      <td>1396 CC</td>\n",
       "      <td>90 bhp</td>\n",
       "      <td>22.4 kgm at 1750-2750rpm</td>\n",
       "      <td>5.0</td>\n",
       "    </tr>\n",
       "    <tr>\n",
       "      <th>18</th>\n",
       "      <td>Maruti Alto LX</td>\n",
       "      <td>2002</td>\n",
       "      <td>150000</td>\n",
       "      <td>80000</td>\n",
       "      <td>Petrol</td>\n",
       "      <td>Individual</td>\n",
       "      <td>Manual</td>\n",
       "      <td>Second Owner</td>\n",
       "      <td>19.7 kmpl</td>\n",
       "      <td>796 CC</td>\n",
       "      <td>46.3 bhp</td>\n",
       "      <td>62Nm@ 3000rpm</td>\n",
       "      <td>5.0</td>\n",
       "    </tr>\n",
       "    <tr>\n",
       "      <th>19</th>\n",
       "      <td>Hyundai i20 2015-2017 Asta 1.4 CRDi</td>\n",
       "      <td>2016</td>\n",
       "      <td>680000</td>\n",
       "      <td>100000</td>\n",
       "      <td>Diesel</td>\n",
       "      <td>Individual</td>\n",
       "      <td>Manual</td>\n",
       "      <td>First Owner</td>\n",
       "      <td>22.54 kmpl</td>\n",
       "      <td>1396 CC</td>\n",
       "      <td>88.73 bhp</td>\n",
       "      <td>219.7Nm@ 1500-2750rpm</td>\n",
       "      <td>5.0</td>\n",
       "    </tr>\n",
       "    <tr>\n",
       "      <th>20</th>\n",
       "      <td>Mahindra Verito 1.5 D4 BSIII</td>\n",
       "      <td>2011</td>\n",
       "      <td>174000</td>\n",
       "      <td>100000</td>\n",
       "      <td>Diesel</td>\n",
       "      <td>Individual</td>\n",
       "      <td>Manual</td>\n",
       "      <td>Second Owner</td>\n",
       "      <td>21.0 kmpl</td>\n",
       "      <td>1461 CC</td>\n",
       "      <td>64.1 bhp</td>\n",
       "      <td>160Nm@ 2000rpm</td>\n",
       "      <td>5.0</td>\n",
       "    </tr>\n",
       "    <tr>\n",
       "      <th>21</th>\n",
       "      <td>Honda WR-V i-DTEC VX</td>\n",
       "      <td>2017</td>\n",
       "      <td>950000</td>\n",
       "      <td>50000</td>\n",
       "      <td>Diesel</td>\n",
       "      <td>Individual</td>\n",
       "      <td>Manual</td>\n",
       "      <td>First Owner</td>\n",
       "      <td>25.5 kmpl</td>\n",
       "      <td>1498 CC</td>\n",
       "      <td>98.6 bhp</td>\n",
       "      <td>200Nm@ 1750rpm</td>\n",
       "      <td>5.0</td>\n",
       "    </tr>\n",
       "    <tr>\n",
       "      <th>22</th>\n",
       "      <td>Maruti Swift Dzire ZDI</td>\n",
       "      <td>2015</td>\n",
       "      <td>525000</td>\n",
       "      <td>40000</td>\n",
       "      <td>Diesel</td>\n",
       "      <td>Individual</td>\n",
       "      <td>Manual</td>\n",
       "      <td>First Owner</td>\n",
       "      <td>26.59 kmpl</td>\n",
       "      <td>1248 CC</td>\n",
       "      <td>74 bhp</td>\n",
       "      <td>190Nm@ 2000rpm</td>\n",
       "      <td>5.0</td>\n",
       "    </tr>\n",
       "    <tr>\n",
       "      <th>23</th>\n",
       "      <td>Maruti SX4 ZDI</td>\n",
       "      <td>2012</td>\n",
       "      <td>600000</td>\n",
       "      <td>72000</td>\n",
       "      <td>Diesel</td>\n",
       "      <td>Individual</td>\n",
       "      <td>Manual</td>\n",
       "      <td>First Owner</td>\n",
       "      <td>21.5 kmpl</td>\n",
       "      <td>1248 CC</td>\n",
       "      <td>88.8 bhp</td>\n",
       "      <td>200Nm@ 1750rpm</td>\n",
       "      <td>5.0</td>\n",
       "    </tr>\n",
       "    <tr>\n",
       "      <th>24</th>\n",
       "      <td>Tata Tigor 2017-2020 XZ</td>\n",
       "      <td>2018</td>\n",
       "      <td>500000</td>\n",
       "      <td>35000</td>\n",
       "      <td>Petrol</td>\n",
       "      <td>Individual</td>\n",
       "      <td>Manual</td>\n",
       "      <td>First Owner</td>\n",
       "      <td>20.3 kmpl</td>\n",
       "      <td>1199 CC</td>\n",
       "      <td>83.81 bhp</td>\n",
       "      <td>114Nm@ 3500rpm</td>\n",
       "      <td>5.0</td>\n",
       "    </tr>\n",
       "    <tr>\n",
       "      <th>25</th>\n",
       "      <td>Maruti Baleno Delta 1.2</td>\n",
       "      <td>2016</td>\n",
       "      <td>575000</td>\n",
       "      <td>45000</td>\n",
       "      <td>Petrol</td>\n",
       "      <td>Individual</td>\n",
       "      <td>Manual</td>\n",
       "      <td>First Owner</td>\n",
       "      <td>21.4 kmpl</td>\n",
       "      <td>1197 CC</td>\n",
       "      <td>83.1 bhp</td>\n",
       "      <td>115Nm@ 4000rpm</td>\n",
       "      <td>5.0</td>\n",
       "    </tr>\n",
       "    <tr>\n",
       "      <th>26</th>\n",
       "      <td>Maruti Alto 800 LXI</td>\n",
       "      <td>2017</td>\n",
       "      <td>275000</td>\n",
       "      <td>28000</td>\n",
       "      <td>Petrol</td>\n",
       "      <td>Individual</td>\n",
       "      <td>Manual</td>\n",
       "      <td>First Owner</td>\n",
       "      <td>24.7 kmpl</td>\n",
       "      <td>796 CC</td>\n",
       "      <td>47.3 bhp</td>\n",
       "      <td>69Nm@ 3500rpm</td>\n",
       "      <td>5.0</td>\n",
       "    </tr>\n",
       "    <tr>\n",
       "      <th>27</th>\n",
       "      <td>Chevrolet Enjoy TCDi LTZ 7 Seater</td>\n",
       "      <td>2013</td>\n",
       "      <td>300000</td>\n",
       "      <td>70000</td>\n",
       "      <td>Diesel</td>\n",
       "      <td>Individual</td>\n",
       "      <td>Manual</td>\n",
       "      <td>First Owner</td>\n",
       "      <td>18.2 kmpl</td>\n",
       "      <td>1248 CC</td>\n",
       "      <td>73.8 bhp</td>\n",
       "      <td>172.5Nm@ 1750rpm</td>\n",
       "      <td>7.0</td>\n",
       "    </tr>\n",
       "    <tr>\n",
       "      <th>28</th>\n",
       "      <td>Maruti Wagon R LXI Minor</td>\n",
       "      <td>2009</td>\n",
       "      <td>220000</td>\n",
       "      <td>120000</td>\n",
       "      <td>Petrol</td>\n",
       "      <td>Individual</td>\n",
       "      <td>Manual</td>\n",
       "      <td>First Owner</td>\n",
       "      <td>18.9 kmpl</td>\n",
       "      <td>1061 CC</td>\n",
       "      <td>67 bhp</td>\n",
       "      <td>84Nm@ 3500rpm</td>\n",
       "      <td>5.0</td>\n",
       "    </tr>\n",
       "    <tr>\n",
       "      <th>29</th>\n",
       "      <td>Maruti Omni E MPI STD BS IV</td>\n",
       "      <td>2018</td>\n",
       "      <td>254999</td>\n",
       "      <td>25000</td>\n",
       "      <td>Petrol</td>\n",
       "      <td>Individual</td>\n",
       "      <td>Manual</td>\n",
       "      <td>First Owner</td>\n",
       "      <td>16.8 kmpl</td>\n",
       "      <td>796 CC</td>\n",
       "      <td>34.2 bhp</td>\n",
       "      <td>59Nm@ 2500rpm</td>\n",
       "      <td>8.0</td>\n",
       "    </tr>\n",
       "    <tr>\n",
       "      <th>30</th>\n",
       "      <td>Maruti Vitara Brezza LDi Option</td>\n",
       "      <td>2017</td>\n",
       "      <td>670000</td>\n",
       "      <td>70000</td>\n",
       "      <td>Diesel</td>\n",
       "      <td>Individual</td>\n",
       "      <td>Manual</td>\n",
       "      <td>First Owner</td>\n",
       "      <td>24.3 kmpl</td>\n",
       "      <td>1248 CC</td>\n",
       "      <td>88.5 bhp</td>\n",
       "      <td>200Nm@ 1750rpm</td>\n",
       "      <td>5.0</td>\n",
       "    </tr>\n",
       "    <tr>\n",
       "      <th>31</th>\n",
       "      <td>Fiat Palio 1.2 ELX</td>\n",
       "      <td>2003</td>\n",
       "      <td>70000</td>\n",
       "      <td>50000</td>\n",
       "      <td>Petrol</td>\n",
       "      <td>Individual</td>\n",
       "      <td>Manual</td>\n",
       "      <td>Second Owner</td>\n",
       "      <td>NaN</td>\n",
       "      <td>NaN</td>\n",
       "      <td>NaN</td>\n",
       "      <td>NaN</td>\n",
       "      <td>NaN</td>\n",
       "    </tr>\n",
       "    <tr>\n",
       "      <th>32</th>\n",
       "      <td>Maruti Omni 8 Seater BSIV</td>\n",
       "      <td>2012</td>\n",
       "      <td>150000</td>\n",
       "      <td>35000</td>\n",
       "      <td>Petrol</td>\n",
       "      <td>Individual</td>\n",
       "      <td>Manual</td>\n",
       "      <td>Second Owner</td>\n",
       "      <td>14.0 kmpl</td>\n",
       "      <td>796 CC</td>\n",
       "      <td>35 bhp</td>\n",
       "      <td>6.1kgm@ 3000rpm</td>\n",
       "      <td>5.0</td>\n",
       "    </tr>\n",
       "    <tr>\n",
       "      <th>33</th>\n",
       "      <td>Hyundai i20 1.2 Asta Dual Tone</td>\n",
       "      <td>2018</td>\n",
       "      <td>730000</td>\n",
       "      <td>2388</td>\n",
       "      <td>Petrol</td>\n",
       "      <td>Individual</td>\n",
       "      <td>Manual</td>\n",
       "      <td>First Owner</td>\n",
       "      <td>18.6 kmpl</td>\n",
       "      <td>1197 CC</td>\n",
       "      <td>81.83 bhp</td>\n",
       "      <td>114.7Nm@ 4000rpm</td>\n",
       "      <td>5.0</td>\n",
       "    </tr>\n",
       "    <tr>\n",
       "      <th>34</th>\n",
       "      <td>Maruti Vitara Brezza LDi</td>\n",
       "      <td>2017</td>\n",
       "      <td>650000</td>\n",
       "      <td>16200</td>\n",
       "      <td>Diesel</td>\n",
       "      <td>Individual</td>\n",
       "      <td>Manual</td>\n",
       "      <td>First Owner</td>\n",
       "      <td>24.3 kmpl</td>\n",
       "      <td>1248 CC</td>\n",
       "      <td>88.5 bhp</td>\n",
       "      <td>200Nm@ 1750rpm</td>\n",
       "      <td>5.0</td>\n",
       "    </tr>\n",
       "    <tr>\n",
       "      <th>35</th>\n",
       "      <td>Maruti Alto 800 CNG LXI Optional</td>\n",
       "      <td>2019</td>\n",
       "      <td>330000</td>\n",
       "      <td>10000</td>\n",
       "      <td>CNG</td>\n",
       "      <td>Individual</td>\n",
       "      <td>Manual</td>\n",
       "      <td>Second Owner</td>\n",
       "      <td>33.44 km/kg</td>\n",
       "      <td>796 CC</td>\n",
       "      <td>40.3 bhp</td>\n",
       "      <td>60Nm@ 3500rpm</td>\n",
       "      <td>4.0</td>\n",
       "    </tr>\n",
       "    <tr>\n",
       "      <th>36</th>\n",
       "      <td>Maruti Alto K10 VXI Airbag</td>\n",
       "      <td>2019</td>\n",
       "      <td>366000</td>\n",
       "      <td>15000</td>\n",
       "      <td>Petrol</td>\n",
       "      <td>Individual</td>\n",
       "      <td>Manual</td>\n",
       "      <td>First Owner</td>\n",
       "      <td>23.95 kmpl</td>\n",
       "      <td>998 CC</td>\n",
       "      <td>67.1 bhp</td>\n",
       "      <td>90Nm@ 3500rpm</td>\n",
       "      <td>5.0</td>\n",
       "    </tr>\n",
       "    <tr>\n",
       "      <th>37</th>\n",
       "      <td>Hyundai Verna VTVT 1.6 SX Option</td>\n",
       "      <td>2019</td>\n",
       "      <td>1149000</td>\n",
       "      <td>5000</td>\n",
       "      <td>Petrol</td>\n",
       "      <td>Individual</td>\n",
       "      <td>Manual</td>\n",
       "      <td>First Owner</td>\n",
       "      <td>17.0 kmpl</td>\n",
       "      <td>1591 CC</td>\n",
       "      <td>121.3 bhp</td>\n",
       "      <td>151Nm@ 4850rpm</td>\n",
       "      <td>5.0</td>\n",
       "    </tr>\n",
       "    <tr>\n",
       "      <th>38</th>\n",
       "      <td>Datsun GO D</td>\n",
       "      <td>2016</td>\n",
       "      <td>150000</td>\n",
       "      <td>42000</td>\n",
       "      <td>Petrol</td>\n",
       "      <td>Individual</td>\n",
       "      <td>Manual</td>\n",
       "      <td>First Owner</td>\n",
       "      <td>20.63 kmpl</td>\n",
       "      <td>1198 CC</td>\n",
       "      <td>67 bhp</td>\n",
       "      <td>104Nm@ 4000rpm</td>\n",
       "      <td>5.0</td>\n",
       "    </tr>\n",
       "    <tr>\n",
       "      <th>39</th>\n",
       "      <td>Tata Safari DICOR 2.2 LX 4x2</td>\n",
       "      <td>2011</td>\n",
       "      <td>425000</td>\n",
       "      <td>60000</td>\n",
       "      <td>Diesel</td>\n",
       "      <td>Individual</td>\n",
       "      <td>Manual</td>\n",
       "      <td>Second Owner</td>\n",
       "      <td>13.93 kmpl</td>\n",
       "      <td>2179 CC</td>\n",
       "      <td>138.03 bhp</td>\n",
       "      <td>320Nm@ 1700-2700rpm</td>\n",
       "      <td>7.0</td>\n",
       "    </tr>\n",
       "    <tr>\n",
       "      <th>40</th>\n",
       "      <td>Maruti 800 Std</td>\n",
       "      <td>2012</td>\n",
       "      <td>150000</td>\n",
       "      <td>76000</td>\n",
       "      <td>Petrol</td>\n",
       "      <td>Individual</td>\n",
       "      <td>Manual</td>\n",
       "      <td>First Owner</td>\n",
       "      <td>16.1 kmpl</td>\n",
       "      <td>796 CC</td>\n",
       "      <td>37 bhp</td>\n",
       "      <td>59Nm@ 2500rpm</td>\n",
       "      <td>4.0</td>\n",
       "    </tr>\n",
       "    <tr>\n",
       "      <th>41</th>\n",
       "      <td>Jeep Compass 1.4 Limited Plus BSIV</td>\n",
       "      <td>2019</td>\n",
       "      <td>2100000</td>\n",
       "      <td>5000</td>\n",
       "      <td>Petrol</td>\n",
       "      <td>Individual</td>\n",
       "      <td>Automatic</td>\n",
       "      <td>First Owner</td>\n",
       "      <td>16.0 kmpl</td>\n",
       "      <td>1368 CC</td>\n",
       "      <td>160.77 bhp</td>\n",
       "      <td>250Nm@ 1750-2500rpm</td>\n",
       "      <td>5.0</td>\n",
       "    </tr>\n",
       "    <tr>\n",
       "      <th>42</th>\n",
       "      <td>Honda City i VTEC VX</td>\n",
       "      <td>2018</td>\n",
       "      <td>925000</td>\n",
       "      <td>28900</td>\n",
       "      <td>Petrol</td>\n",
       "      <td>Dealer</td>\n",
       "      <td>Manual</td>\n",
       "      <td>First Owner</td>\n",
       "      <td>17.8 kmpl</td>\n",
       "      <td>1497 CC</td>\n",
       "      <td>117.3 bhp</td>\n",
       "      <td>145Nm@ 4600rpm</td>\n",
       "      <td>5.0</td>\n",
       "    </tr>\n",
       "    <tr>\n",
       "      <th>43</th>\n",
       "      <td>Honda City V MT</td>\n",
       "      <td>2013</td>\n",
       "      <td>425000</td>\n",
       "      <td>86300</td>\n",
       "      <td>Petrol</td>\n",
       "      <td>Dealer</td>\n",
       "      <td>Manual</td>\n",
       "      <td>First Owner</td>\n",
       "      <td>16.8 kmpl</td>\n",
       "      <td>1497 CC</td>\n",
       "      <td>116.3 bhp</td>\n",
       "      <td>146Nm@ 4800rpm</td>\n",
       "      <td>5.0</td>\n",
       "    </tr>\n",
       "    <tr>\n",
       "      <th>44</th>\n",
       "      <td>Maruti Swift Dzire VXi AT</td>\n",
       "      <td>2018</td>\n",
       "      <td>675000</td>\n",
       "      <td>23300</td>\n",
       "      <td>Petrol</td>\n",
       "      <td>Dealer</td>\n",
       "      <td>Automatic</td>\n",
       "      <td>First Owner</td>\n",
       "      <td>18.5 kmpl</td>\n",
       "      <td>1197 CC</td>\n",
       "      <td>83.14 bhp</td>\n",
       "      <td>115Nm@ 4000rpm</td>\n",
       "      <td>5.0</td>\n",
       "    </tr>\n",
       "    <tr>\n",
       "      <th>45</th>\n",
       "      <td>Maruti Vitara Brezza VDi</td>\n",
       "      <td>2018</td>\n",
       "      <td>819999</td>\n",
       "      <td>32600</td>\n",
       "      <td>Diesel</td>\n",
       "      <td>Dealer</td>\n",
       "      <td>Manual</td>\n",
       "      <td>First Owner</td>\n",
       "      <td>24.3 kmpl</td>\n",
       "      <td>1248 CC</td>\n",
       "      <td>88.5 bhp</td>\n",
       "      <td>200Nm@ 1750rpm</td>\n",
       "      <td>5.0</td>\n",
       "    </tr>\n",
       "    <tr>\n",
       "      <th>46</th>\n",
       "      <td>Maruti Alto K10 VXI</td>\n",
       "      <td>2018</td>\n",
       "      <td>390000</td>\n",
       "      <td>10300</td>\n",
       "      <td>Petrol</td>\n",
       "      <td>Dealer</td>\n",
       "      <td>Manual</td>\n",
       "      <td>First Owner</td>\n",
       "      <td>23.95 kmpl</td>\n",
       "      <td>998 CC</td>\n",
       "      <td>67.05 bhp</td>\n",
       "      <td>90Nm@ 3500rpm</td>\n",
       "      <td>5.0</td>\n",
       "    </tr>\n",
       "    <tr>\n",
       "      <th>47</th>\n",
       "      <td>Toyota Fortuner 4x4 MT</td>\n",
       "      <td>2014</td>\n",
       "      <td>1500000</td>\n",
       "      <td>77000</td>\n",
       "      <td>Diesel</td>\n",
       "      <td>Dealer</td>\n",
       "      <td>Manual</td>\n",
       "      <td>First Owner</td>\n",
       "      <td>12.55 kmpl</td>\n",
       "      <td>2982 CC</td>\n",
       "      <td>168.5 bhp</td>\n",
       "      <td>343Nm@ 1400-3400rpm</td>\n",
       "      <td>7.0</td>\n",
       "    </tr>\n",
       "    <tr>\n",
       "      <th>48</th>\n",
       "      <td>Toyota Innova 2.5 G (Diesel) 7 Seater BS IV</td>\n",
       "      <td>2013</td>\n",
       "      <td>700000</td>\n",
       "      <td>99000</td>\n",
       "      <td>Diesel</td>\n",
       "      <td>Dealer</td>\n",
       "      <td>Manual</td>\n",
       "      <td>First Owner</td>\n",
       "      <td>12.99 kmpl</td>\n",
       "      <td>2494 CC</td>\n",
       "      <td>100 bhp</td>\n",
       "      <td>200Nm@ 1400-3400rpm</td>\n",
       "      <td>7.0</td>\n",
       "    </tr>\n",
       "    <tr>\n",
       "      <th>49</th>\n",
       "      <td>Mercedes-Benz B Class B180</td>\n",
       "      <td>2014</td>\n",
       "      <td>1450000</td>\n",
       "      <td>27800</td>\n",
       "      <td>Diesel</td>\n",
       "      <td>Dealer</td>\n",
       "      <td>Automatic</td>\n",
       "      <td>Second Owner</td>\n",
       "      <td>14.8 kmpl</td>\n",
       "      <td>2143 CC</td>\n",
       "      <td>120.7 bhp</td>\n",
       "      <td>200Nm@ 1250-4000rpm</td>\n",
       "      <td>5.0</td>\n",
       "    </tr>\n",
       "  </tbody>\n",
       "</table>\n",
       "</div>"
      ],
      "text/plain": [
       "                                           name  year  selling_price  \\\n",
       "0                        Maruti Swift Dzire VDI  2014         450000   \n",
       "1                  Skoda Rapid 1.5 TDI Ambition  2014         370000   \n",
       "2                      Honda City 2017-2020 EXi  2006         158000   \n",
       "3                     Hyundai i20 Sportz Diesel  2010         225000   \n",
       "4                        Maruti Swift VXI BSIII  2007         130000   \n",
       "5                 Hyundai Xcent 1.2 VTVT E Plus  2017         440000   \n",
       "6                  Maruti Wagon R LXI DUO BSIII  2007          96000   \n",
       "7                            Maruti 800 DX BSII  2001          45000   \n",
       "8                              Toyota Etios VXD  2011         350000   \n",
       "9          Ford Figo Diesel Celebration Edition  2013         200000   \n",
       "10              Renault Duster 110PS Diesel RxL  2014         500000   \n",
       "11                                Maruti Zen LX  2005          92000   \n",
       "12                       Maruti Swift Dzire VDi  2009         280000   \n",
       "13                         Maruti Swift 1.3 VXi  2007         200000   \n",
       "14                     Maruti Wagon R LXI Minor  2009         180000   \n",
       "15         Mahindra KUV 100 mFALCON G80 K8 5str  2016         400000   \n",
       "16                       Maruti Ertiga SHVS VDI  2016         778000   \n",
       "17                    Hyundai i20 1.4 CRDi Asta  2012         500000   \n",
       "18                               Maruti Alto LX  2002         150000   \n",
       "19          Hyundai i20 2015-2017 Asta 1.4 CRDi  2016         680000   \n",
       "20                 Mahindra Verito 1.5 D4 BSIII  2011         174000   \n",
       "21                         Honda WR-V i-DTEC VX  2017         950000   \n",
       "22                       Maruti Swift Dzire ZDI  2015         525000   \n",
       "23                               Maruti SX4 ZDI  2012         600000   \n",
       "24                      Tata Tigor 2017-2020 XZ  2018         500000   \n",
       "25                      Maruti Baleno Delta 1.2  2016         575000   \n",
       "26                          Maruti Alto 800 LXI  2017         275000   \n",
       "27            Chevrolet Enjoy TCDi LTZ 7 Seater  2013         300000   \n",
       "28                     Maruti Wagon R LXI Minor  2009         220000   \n",
       "29                  Maruti Omni E MPI STD BS IV  2018         254999   \n",
       "30              Maruti Vitara Brezza LDi Option  2017         670000   \n",
       "31                           Fiat Palio 1.2 ELX  2003          70000   \n",
       "32                    Maruti Omni 8 Seater BSIV  2012         150000   \n",
       "33               Hyundai i20 1.2 Asta Dual Tone  2018         730000   \n",
       "34                     Maruti Vitara Brezza LDi  2017         650000   \n",
       "35             Maruti Alto 800 CNG LXI Optional  2019         330000   \n",
       "36                   Maruti Alto K10 VXI Airbag  2019         366000   \n",
       "37             Hyundai Verna VTVT 1.6 SX Option  2019        1149000   \n",
       "38                                  Datsun GO D  2016         150000   \n",
       "39                 Tata Safari DICOR 2.2 LX 4x2  2011         425000   \n",
       "40                               Maruti 800 Std  2012         150000   \n",
       "41           Jeep Compass 1.4 Limited Plus BSIV  2019        2100000   \n",
       "42                         Honda City i VTEC VX  2018         925000   \n",
       "43                              Honda City V MT  2013         425000   \n",
       "44                    Maruti Swift Dzire VXi AT  2018         675000   \n",
       "45                     Maruti Vitara Brezza VDi  2018         819999   \n",
       "46                          Maruti Alto K10 VXI  2018         390000   \n",
       "47                       Toyota Fortuner 4x4 MT  2014        1500000   \n",
       "48  Toyota Innova 2.5 G (Diesel) 7 Seater BS IV  2013         700000   \n",
       "49                   Mercedes-Benz B Class B180  2014        1450000   \n",
       "\n",
       "    km_driven    fuel seller_type transmission         owner      mileage  \\\n",
       "0      145500  Diesel  Individual       Manual   First Owner    23.4 kmpl   \n",
       "1      120000  Diesel  Individual       Manual  Second Owner   21.14 kmpl   \n",
       "2      140000  Petrol  Individual       Manual   Third Owner    17.7 kmpl   \n",
       "3      127000  Diesel  Individual       Manual   First Owner    23.0 kmpl   \n",
       "4      120000  Petrol  Individual       Manual   First Owner    16.1 kmpl   \n",
       "5       45000  Petrol  Individual       Manual   First Owner   20.14 kmpl   \n",
       "6      175000     LPG  Individual       Manual   First Owner   17.3 km/kg   \n",
       "7        5000  Petrol  Individual       Manual  Second Owner    16.1 kmpl   \n",
       "8       90000  Diesel  Individual       Manual   First Owner   23.59 kmpl   \n",
       "9      169000  Diesel  Individual       Manual   First Owner    20.0 kmpl   \n",
       "10      68000  Diesel  Individual       Manual  Second Owner   19.01 kmpl   \n",
       "11     100000  Petrol  Individual       Manual  Second Owner    17.3 kmpl   \n",
       "12     140000  Diesel  Individual       Manual  Second Owner    19.3 kmpl   \n",
       "13      80000  Petrol  Individual       Manual  Second Owner          NaN   \n",
       "14      90000  Petrol  Individual       Manual  Second Owner    18.9 kmpl   \n",
       "15      40000  Petrol  Individual       Manual   First Owner   18.15 kmpl   \n",
       "16      70000  Diesel  Individual       Manual  Second Owner   24.52 kmpl   \n",
       "17      53000  Diesel  Individual       Manual  Second Owner    23.0 kmpl   \n",
       "18      80000  Petrol  Individual       Manual  Second Owner    19.7 kmpl   \n",
       "19     100000  Diesel  Individual       Manual   First Owner   22.54 kmpl   \n",
       "20     100000  Diesel  Individual       Manual  Second Owner    21.0 kmpl   \n",
       "21      50000  Diesel  Individual       Manual   First Owner    25.5 kmpl   \n",
       "22      40000  Diesel  Individual       Manual   First Owner   26.59 kmpl   \n",
       "23      72000  Diesel  Individual       Manual   First Owner    21.5 kmpl   \n",
       "24      35000  Petrol  Individual       Manual   First Owner    20.3 kmpl   \n",
       "25      45000  Petrol  Individual       Manual   First Owner    21.4 kmpl   \n",
       "26      28000  Petrol  Individual       Manual   First Owner    24.7 kmpl   \n",
       "27      70000  Diesel  Individual       Manual   First Owner    18.2 kmpl   \n",
       "28     120000  Petrol  Individual       Manual   First Owner    18.9 kmpl   \n",
       "29      25000  Petrol  Individual       Manual   First Owner    16.8 kmpl   \n",
       "30      70000  Diesel  Individual       Manual   First Owner    24.3 kmpl   \n",
       "31      50000  Petrol  Individual       Manual  Second Owner          NaN   \n",
       "32      35000  Petrol  Individual       Manual  Second Owner    14.0 kmpl   \n",
       "33       2388  Petrol  Individual       Manual   First Owner    18.6 kmpl   \n",
       "34      16200  Diesel  Individual       Manual   First Owner    24.3 kmpl   \n",
       "35      10000     CNG  Individual       Manual  Second Owner  33.44 km/kg   \n",
       "36      15000  Petrol  Individual       Manual   First Owner   23.95 kmpl   \n",
       "37       5000  Petrol  Individual       Manual   First Owner    17.0 kmpl   \n",
       "38      42000  Petrol  Individual       Manual   First Owner   20.63 kmpl   \n",
       "39      60000  Diesel  Individual       Manual  Second Owner   13.93 kmpl   \n",
       "40      76000  Petrol  Individual       Manual   First Owner    16.1 kmpl   \n",
       "41       5000  Petrol  Individual    Automatic   First Owner    16.0 kmpl   \n",
       "42      28900  Petrol      Dealer       Manual   First Owner    17.8 kmpl   \n",
       "43      86300  Petrol      Dealer       Manual   First Owner    16.8 kmpl   \n",
       "44      23300  Petrol      Dealer    Automatic   First Owner    18.5 kmpl   \n",
       "45      32600  Diesel      Dealer       Manual   First Owner    24.3 kmpl   \n",
       "46      10300  Petrol      Dealer       Manual   First Owner   23.95 kmpl   \n",
       "47      77000  Diesel      Dealer       Manual   First Owner   12.55 kmpl   \n",
       "48      99000  Diesel      Dealer       Manual   First Owner   12.99 kmpl   \n",
       "49      27800  Diesel      Dealer    Automatic  Second Owner    14.8 kmpl   \n",
       "\n",
       "     engine   max_power                    torque  seats  \n",
       "0   1248 CC      74 bhp            190Nm@ 2000rpm    5.0  \n",
       "1   1498 CC  103.52 bhp       250Nm@ 1500-2500rpm    5.0  \n",
       "2   1497 CC      78 bhp     12.7@ 2,700(kgm@ rpm)    5.0  \n",
       "3   1396 CC      90 bhp  22.4 kgm at 1750-2750rpm    5.0  \n",
       "4   1298 CC    88.2 bhp     11.5@ 4,500(kgm@ rpm)    5.0  \n",
       "5   1197 CC   81.86 bhp         113.75nm@ 4000rpm    5.0  \n",
       "6   1061 CC    57.5 bhp      7.8@ 4,500(kgm@ rpm)    5.0  \n",
       "7    796 CC      37 bhp             59Nm@ 2500rpm    4.0  \n",
       "8   1364 CC    67.1 bhp       170Nm@ 1800-2400rpm    5.0  \n",
       "9   1399 CC    68.1 bhp            160Nm@ 2000rpm    5.0  \n",
       "10  1461 CC  108.45 bhp            248Nm@ 2250rpm    5.0  \n",
       "11   993 CC      60 bhp             78Nm@ 4500rpm    5.0  \n",
       "12  1248 CC    73.9 bhp            190Nm@ 2000rpm    5.0  \n",
       "13      NaN         NaN                       NaN    NaN  \n",
       "14  1061 CC      67 bhp             84Nm@ 3500rpm    5.0  \n",
       "15  1198 CC      82 bhp       115Nm@ 3500-3600rpm    5.0  \n",
       "16  1248 CC    88.5 bhp            200Nm@ 1750rpm    7.0  \n",
       "17  1396 CC      90 bhp  22.4 kgm at 1750-2750rpm    5.0  \n",
       "18   796 CC    46.3 bhp             62Nm@ 3000rpm    5.0  \n",
       "19  1396 CC   88.73 bhp     219.7Nm@ 1500-2750rpm    5.0  \n",
       "20  1461 CC    64.1 bhp            160Nm@ 2000rpm    5.0  \n",
       "21  1498 CC    98.6 bhp            200Nm@ 1750rpm    5.0  \n",
       "22  1248 CC      74 bhp            190Nm@ 2000rpm    5.0  \n",
       "23  1248 CC    88.8 bhp            200Nm@ 1750rpm    5.0  \n",
       "24  1199 CC   83.81 bhp            114Nm@ 3500rpm    5.0  \n",
       "25  1197 CC    83.1 bhp            115Nm@ 4000rpm    5.0  \n",
       "26   796 CC    47.3 bhp             69Nm@ 3500rpm    5.0  \n",
       "27  1248 CC    73.8 bhp          172.5Nm@ 1750rpm    7.0  \n",
       "28  1061 CC      67 bhp             84Nm@ 3500rpm    5.0  \n",
       "29   796 CC    34.2 bhp             59Nm@ 2500rpm    8.0  \n",
       "30  1248 CC    88.5 bhp            200Nm@ 1750rpm    5.0  \n",
       "31      NaN         NaN                       NaN    NaN  \n",
       "32   796 CC      35 bhp           6.1kgm@ 3000rpm    5.0  \n",
       "33  1197 CC   81.83 bhp          114.7Nm@ 4000rpm    5.0  \n",
       "34  1248 CC    88.5 bhp            200Nm@ 1750rpm    5.0  \n",
       "35   796 CC    40.3 bhp             60Nm@ 3500rpm    4.0  \n",
       "36   998 CC    67.1 bhp             90Nm@ 3500rpm    5.0  \n",
       "37  1591 CC   121.3 bhp            151Nm@ 4850rpm    5.0  \n",
       "38  1198 CC      67 bhp            104Nm@ 4000rpm    5.0  \n",
       "39  2179 CC  138.03 bhp       320Nm@ 1700-2700rpm    7.0  \n",
       "40   796 CC      37 bhp             59Nm@ 2500rpm    4.0  \n",
       "41  1368 CC  160.77 bhp       250Nm@ 1750-2500rpm    5.0  \n",
       "42  1497 CC   117.3 bhp            145Nm@ 4600rpm    5.0  \n",
       "43  1497 CC   116.3 bhp            146Nm@ 4800rpm    5.0  \n",
       "44  1197 CC   83.14 bhp            115Nm@ 4000rpm    5.0  \n",
       "45  1248 CC    88.5 bhp            200Nm@ 1750rpm    5.0  \n",
       "46   998 CC   67.05 bhp             90Nm@ 3500rpm    5.0  \n",
       "47  2982 CC   168.5 bhp       343Nm@ 1400-3400rpm    7.0  \n",
       "48  2494 CC     100 bhp       200Nm@ 1400-3400rpm    7.0  \n",
       "49  2143 CC   120.7 bhp       200Nm@ 1250-4000rpm    5.0  "
      ]
     },
     "execution_count": 600,
     "metadata": {},
     "output_type": "execute_result"
    }
   ],
   "source": [
    "df.head(50)"
   ]
  },
  {
   "cell_type": "code",
   "execution_count": 601,
   "id": "87d24dc2-1731-4822-b913-f902dbe3217e",
   "metadata": {},
   "outputs": [],
   "source": [
    "df = df.drop ('name', axis = 1)\n",
    "df = df.drop ('fuel', axis = 1)\n",
    "df = df.drop ('mileage', axis = 1)\n",
    "df = df.drop ('max_power', axis = 1)\n",
    "df = df.drop ('torque', axis = 1)"
   ]
  },
  {
   "cell_type": "code",
   "execution_count": 602,
   "id": "e7e5062b-7bb0-4766-9efb-d71d8d6020da",
   "metadata": {},
   "outputs": [],
   "source": [
    "# Remover los caracteres ' CC' de la columna 'engine' para poder usar los valores como datos numéricos\n",
    "df['engine'] = df['engine'].str.replace(' CC', '', regex=False)"
   ]
  },
  {
   "cell_type": "code",
   "execution_count": 603,
   "id": "f6f02e60-fe48-40cb-a6c0-1b33974496db",
   "metadata": {},
   "outputs": [
    {
     "data": {
      "text/plain": [
       "0       1248\n",
       "1       1498\n",
       "2       1497\n",
       "3       1396\n",
       "4       1298\n",
       "        ... \n",
       "8123    1197\n",
       "8124    1493\n",
       "8125    1248\n",
       "8126    1396\n",
       "8127    1396\n",
       "Name: engine, Length: 8128, dtype: object"
      ]
     },
     "execution_count": 603,
     "metadata": {},
     "output_type": "execute_result"
    }
   ],
   "source": [
    "# Verificamos que queden solo los números\n",
    "df['engine']"
   ]
  },
  {
   "cell_type": "code",
   "execution_count": 604,
   "id": "c545cc06-b317-4198-9ec1-8be0e8993d56",
   "metadata": {},
   "outputs": [
    {
     "name": "stdout",
     "output_type": "stream",
     "text": [
      "Cantidad de registros 0 en year:  0\n",
      "Cantidad de registros 0 en selling_price:  0\n",
      "Cantidad de registros 0 en km_driven:  0\n",
      "Cantidad de registros 0 en seller_type:  0\n",
      "Cantidad de registros 0 en transmission:  0\n",
      "Cantidad de registros 0 en owner:  0\n",
      "Cantidad de registros 0 en engine:  0\n",
      "Cantidad de registros 0 en seats:  0\n"
     ]
    }
   ],
   "source": [
    "# Revisión de valores con 0\n",
    "print(\"Cantidad de registros 0 en year: \",df['year'].isin([0]).sum())\n",
    "print(\"Cantidad de registros 0 en selling_price: \",df['selling_price'].isin([0]).sum())\n",
    "print(\"Cantidad de registros 0 en km_driven: \",df['km_driven'].isin([0]).sum())\n",
    "print(\"Cantidad de registros 0 en seller_type: \",df['seller_type'].isin([0]).sum())\n",
    "print(\"Cantidad de registros 0 en transmission: \",df['transmission'].isin([0]).sum())\n",
    "print(\"Cantidad de registros 0 en owner: \",df['owner'].isin([0]).sum())\n",
    "print(\"Cantidad de registros 0 en engine: \",df['engine'].isin([0]).sum())\n",
    "print(\"Cantidad de registros 0 en seats: \",df['seats'].isin([0]).sum())"
   ]
  },
  {
   "cell_type": "code",
   "execution_count": 605,
   "id": "4731c8d5-492e-441e-b63b-936f3c75035e",
   "metadata": {},
   "outputs": [
    {
     "name": "stdout",
     "output_type": "stream",
     "text": [
      "Cantidad de registros NULL en year:  0\n",
      "Cantidad de registros NULL en selling_price:  0\n",
      "Cantidad de registros NULL en km_driven:  0\n",
      "Cantidad de registros NULL en seller_type:  0\n",
      "Cantidad de registros NULL en transmission:  0\n",
      "Cantidad de registros NULL en owner:  0\n",
      "Cantidad de registros NULL en engine:  221\n",
      "Cantidad de registros NULL en seats:  221\n"
     ]
    }
   ],
   "source": [
    "# Revisión de valores con NULL\n",
    "print(\"Cantidad de registros NULL en year: \",df['year'].isnull().sum())\n",
    "print(\"Cantidad de registros NULL en selling_price: \",df['selling_price'].isnull().sum())\n",
    "print(\"Cantidad de registros NULL en km_driven: \",df['km_driven'].isnull().sum())\n",
    "print(\"Cantidad de registros NULL en seller_type: \",df['seller_type'].isnull().sum())\n",
    "print(\"Cantidad de registros NULL en transmission: \",df['transmission'].isnull().sum())\n",
    "print(\"Cantidad de registros NULL en owner: \",df['owner'].isnull().sum())\n",
    "print(\"Cantidad de registros NULL en engine: \",df['engine'].isnull().sum())\n",
    "print(\"Cantidad de registros NULL en seats: \",df['seats'].isnull().sum())"
   ]
  },
  {
   "cell_type": "code",
   "execution_count": 606,
   "id": "0fdaca47-fd33-4d58-af18-a8abbf08afde",
   "metadata": {},
   "outputs": [
    {
     "name": "stdout",
     "output_type": "stream",
     "text": [
      "      year  selling_price  km_driven seller_type transmission         owner  \\\n",
      "13    2007         200000      80000  Individual       Manual  Second Owner   \n",
      "31    2003          70000      50000  Individual       Manual  Second Owner   \n",
      "78    2003          50000      70000  Individual       Manual   First Owner   \n",
      "87    2015         475000      78000      Dealer       Manual   First Owner   \n",
      "119   2010         300000     120000  Individual       Manual  Second Owner   \n",
      "...    ...            ...        ...         ...          ...           ...   \n",
      "7846  2000         200000     100000  Individual       Manual   First Owner   \n",
      "7996  2000         140000      50000  Individual       Manual  Second Owner   \n",
      "8009  2006         145000      80000  Individual       Manual  Second Owner   \n",
      "8068  2017         580000     165000  Individual       Manual   First Owner   \n",
      "8103  2006         130000     100000  Individual       Manual  Second Owner   \n",
      "\n",
      "     engine  seats  \n",
      "13      NaN    NaN  \n",
      "31      NaN    NaN  \n",
      "78      NaN    NaN  \n",
      "87      NaN    NaN  \n",
      "119     NaN    NaN  \n",
      "...     ...    ...  \n",
      "7846    NaN    NaN  \n",
      "7996    NaN    NaN  \n",
      "8009    NaN    NaN  \n",
      "8068    NaN    NaN  \n",
      "8103    NaN    NaN  \n",
      "\n",
      "[221 rows x 8 columns]\n"
     ]
    }
   ],
   "source": [
    "print(df[df['engine'].isnull()])"
   ]
  },
  {
   "cell_type": "code",
   "execution_count": 607,
   "id": "17f876ab-8828-4ef8-901f-350ee36eca73",
   "metadata": {},
   "outputs": [],
   "source": [
    "#Rellenar los valores vacíos con 0 para poder convertir la columna en datos de tipo int\n",
    "df['engine'] = pd.to_numeric(df['engine'], errors='coerce').fillna(0).astype(int)\n",
    "df['seats'] = pd.to_numeric(df['seats'], errors='coerce').fillna(0).astype(int)"
   ]
  },
  {
   "cell_type": "code",
   "execution_count": 608,
   "id": "5a421b52-9bda-4b03-a3c1-5154d394dba7",
   "metadata": {},
   "outputs": [],
   "source": [
    "#Convertimos los valores de las columnas en tipo int\n",
    "df['engine']=df['engine'].astype('int')\n",
    "df['seats']=df['seats'].astype('int')"
   ]
  },
  {
   "cell_type": "code",
   "execution_count": 609,
   "id": "6e790e23-193c-4218-bd35-d6105c31a059",
   "metadata": {},
   "outputs": [],
   "source": [
    "# Reemplazando valores vacíos por la media de la columna enngine\n",
    "df['engine']=df['engine'].replace(np.nan,df['engine'].mean())\n",
    "\n",
    "# Reemplazando valores vacíos por la media de la columna seats\n",
    "df['seats']=df['seats'].replace(np.nan,df['seats'].mean())"
   ]
  },
  {
   "cell_type": "code",
   "execution_count": 610,
   "id": "94dc603b-6160-4678-8a29-05083f849471",
   "metadata": {},
   "outputs": [
    {
     "name": "stdout",
     "output_type": "stream",
     "text": [
      "Empty DataFrame\n",
      "Columns: [year, selling_price, km_driven, seller_type, transmission, owner, engine, seats]\n",
      "Index: []\n"
     ]
    }
   ],
   "source": [
    "# Verificamos que no queden valores null en la columna engine\n",
    "print(df[df['engine'].isnull()])"
   ]
  },
  {
   "cell_type": "code",
   "execution_count": 611,
   "id": "79b5a125-2b77-428f-9cab-61679a9b7a92",
   "metadata": {},
   "outputs": [
    {
     "name": "stdout",
     "output_type": "stream",
     "text": [
      "Empty DataFrame\n",
      "Columns: [year, selling_price, km_driven, seller_type, transmission, owner, engine, seats]\n",
      "Index: []\n"
     ]
    }
   ],
   "source": [
    "# Verificamos que no queden valores null en la columna seats\n",
    "print(df[df['seats'].isnull()])"
   ]
  },
  {
   "cell_type": "code",
   "execution_count": 612,
   "id": "4d3532bd-959c-4f1a-9fae-7c6115757c5e",
   "metadata": {},
   "outputs": [
    {
     "data": {
      "text/plain": [
       "array(['First Owner', 'Second Owner', 'Third Owner',\n",
       "       'Fourth & Above Owner', 'Test Drive Car'], dtype=object)"
      ]
     },
     "execution_count": 612,
     "metadata": {},
     "output_type": "execute_result"
    }
   ],
   "source": [
    "#Identificar posibles valores de la columna onwer (propietario)\n",
    "df['owner'].unique()"
   ]
  },
  {
   "cell_type": "code",
   "execution_count": 613,
   "id": "a59fe5a5-49ba-4c82-9fe3-b8b69f1f948f",
   "metadata": {},
   "outputs": [
    {
     "data": {
      "text/plain": [
       "array(['Individual', 'Dealer', 'Trustmark Dealer'], dtype=object)"
      ]
     },
     "execution_count": 613,
     "metadata": {},
     "output_type": "execute_result"
    }
   ],
   "source": [
    "#Identificar posibles valores de la columna seller_type (tipo de vendedor)\n",
    "df['seller_type'].unique()\n"
   ]
  },
  {
   "cell_type": "code",
   "execution_count": 614,
   "id": "3154c73c-2f4f-46f4-ace2-6eda1b86ccfb",
   "metadata": {},
   "outputs": [
    {
     "data": {
      "text/plain": [
       "array(['Manual', 'Automatic'], dtype=object)"
      ]
     },
     "execution_count": 614,
     "metadata": {},
     "output_type": "execute_result"
    }
   ],
   "source": [
    "#Identificar posibles valores de la columna transmission (transmisión)\n",
    "df['transmission'].unique()"
   ]
  },
  {
   "cell_type": "code",
   "execution_count": 615,
   "id": "d975857c-ab23-4897-a35b-4345cdc1fb1c",
   "metadata": {},
   "outputs": [
    {
     "data": {
      "text/html": [
       "<div>\n",
       "<style scoped>\n",
       "    .dataframe tbody tr th:only-of-type {\n",
       "        vertical-align: middle;\n",
       "    }\n",
       "\n",
       "    .dataframe tbody tr th {\n",
       "        vertical-align: top;\n",
       "    }\n",
       "\n",
       "    .dataframe thead th {\n",
       "        text-align: right;\n",
       "    }\n",
       "</style>\n",
       "<table border=\"1\" class=\"dataframe\">\n",
       "  <thead>\n",
       "    <tr style=\"text-align: right;\">\n",
       "      <th></th>\n",
       "      <th>year</th>\n",
       "      <th>selling_price</th>\n",
       "      <th>km_driven</th>\n",
       "      <th>seller_type</th>\n",
       "      <th>transmission</th>\n",
       "      <th>owner</th>\n",
       "      <th>engine</th>\n",
       "      <th>seats</th>\n",
       "    </tr>\n",
       "  </thead>\n",
       "  <tbody>\n",
       "    <tr>\n",
       "      <th>0</th>\n",
       "      <td>2014</td>\n",
       "      <td>450000</td>\n",
       "      <td>145500</td>\n",
       "      <td>1</td>\n",
       "      <td>1</td>\n",
       "      <td>1</td>\n",
       "      <td>1248</td>\n",
       "      <td>5</td>\n",
       "    </tr>\n",
       "    <tr>\n",
       "      <th>1</th>\n",
       "      <td>2014</td>\n",
       "      <td>370000</td>\n",
       "      <td>120000</td>\n",
       "      <td>1</td>\n",
       "      <td>1</td>\n",
       "      <td>2</td>\n",
       "      <td>1498</td>\n",
       "      <td>5</td>\n",
       "    </tr>\n",
       "    <tr>\n",
       "      <th>2</th>\n",
       "      <td>2006</td>\n",
       "      <td>158000</td>\n",
       "      <td>140000</td>\n",
       "      <td>1</td>\n",
       "      <td>1</td>\n",
       "      <td>3</td>\n",
       "      <td>1497</td>\n",
       "      <td>5</td>\n",
       "    </tr>\n",
       "    <tr>\n",
       "      <th>3</th>\n",
       "      <td>2010</td>\n",
       "      <td>225000</td>\n",
       "      <td>127000</td>\n",
       "      <td>1</td>\n",
       "      <td>1</td>\n",
       "      <td>1</td>\n",
       "      <td>1396</td>\n",
       "      <td>5</td>\n",
       "    </tr>\n",
       "    <tr>\n",
       "      <th>4</th>\n",
       "      <td>2007</td>\n",
       "      <td>130000</td>\n",
       "      <td>120000</td>\n",
       "      <td>1</td>\n",
       "      <td>1</td>\n",
       "      <td>1</td>\n",
       "      <td>1298</td>\n",
       "      <td>5</td>\n",
       "    </tr>\n",
       "    <tr>\n",
       "      <th>...</th>\n",
       "      <td>...</td>\n",
       "      <td>...</td>\n",
       "      <td>...</td>\n",
       "      <td>...</td>\n",
       "      <td>...</td>\n",
       "      <td>...</td>\n",
       "      <td>...</td>\n",
       "      <td>...</td>\n",
       "    </tr>\n",
       "    <tr>\n",
       "      <th>8123</th>\n",
       "      <td>2013</td>\n",
       "      <td>320000</td>\n",
       "      <td>110000</td>\n",
       "      <td>1</td>\n",
       "      <td>1</td>\n",
       "      <td>1</td>\n",
       "      <td>1197</td>\n",
       "      <td>5</td>\n",
       "    </tr>\n",
       "    <tr>\n",
       "      <th>8124</th>\n",
       "      <td>2007</td>\n",
       "      <td>135000</td>\n",
       "      <td>119000</td>\n",
       "      <td>1</td>\n",
       "      <td>1</td>\n",
       "      <td>4</td>\n",
       "      <td>1493</td>\n",
       "      <td>5</td>\n",
       "    </tr>\n",
       "    <tr>\n",
       "      <th>8125</th>\n",
       "      <td>2009</td>\n",
       "      <td>382000</td>\n",
       "      <td>120000</td>\n",
       "      <td>1</td>\n",
       "      <td>1</td>\n",
       "      <td>1</td>\n",
       "      <td>1248</td>\n",
       "      <td>5</td>\n",
       "    </tr>\n",
       "    <tr>\n",
       "      <th>8126</th>\n",
       "      <td>2013</td>\n",
       "      <td>290000</td>\n",
       "      <td>25000</td>\n",
       "      <td>1</td>\n",
       "      <td>1</td>\n",
       "      <td>1</td>\n",
       "      <td>1396</td>\n",
       "      <td>5</td>\n",
       "    </tr>\n",
       "    <tr>\n",
       "      <th>8127</th>\n",
       "      <td>2013</td>\n",
       "      <td>290000</td>\n",
       "      <td>25000</td>\n",
       "      <td>1</td>\n",
       "      <td>1</td>\n",
       "      <td>1</td>\n",
       "      <td>1396</td>\n",
       "      <td>5</td>\n",
       "    </tr>\n",
       "  </tbody>\n",
       "</table>\n",
       "<p>8128 rows × 8 columns</p>\n",
       "</div>"
      ],
      "text/plain": [
       "      year  selling_price  km_driven seller_type transmission owner  engine  \\\n",
       "0     2014         450000     145500           1            1     1    1248   \n",
       "1     2014         370000     120000           1            1     2    1498   \n",
       "2     2006         158000     140000           1            1     3    1497   \n",
       "3     2010         225000     127000           1            1     1    1396   \n",
       "4     2007         130000     120000           1            1     1    1298   \n",
       "...    ...            ...        ...         ...          ...   ...     ...   \n",
       "8123  2013         320000     110000           1            1     1    1197   \n",
       "8124  2007         135000     119000           1            1     4    1493   \n",
       "8125  2009         382000     120000           1            1     1    1248   \n",
       "8126  2013         290000      25000           1            1     1    1396   \n",
       "8127  2013         290000      25000           1            1     1    1396   \n",
       "\n",
       "      seats  \n",
       "0         5  \n",
       "1         5  \n",
       "2         5  \n",
       "3         5  \n",
       "4         5  \n",
       "...     ...  \n",
       "8123      5  \n",
       "8124      5  \n",
       "8125      5  \n",
       "8126      5  \n",
       "8127      5  \n",
       "\n",
       "[8128 rows x 8 columns]"
      ]
     },
     "execution_count": 615,
     "metadata": {},
     "output_type": "execute_result"
    }
   ],
   "source": [
    "#Reemplazar Strigs por números enteros\n",
    "#Columna owner\n",
    "df.loc[df['owner'] == \"First Owner\", 'owner'] = 1\n",
    "df.loc[df['owner'] == \"Second Owner\", 'owner'] = 2\n",
    "df.loc[df['owner'] == \"Third Owner\", 'owner'] = 3\n",
    "df.loc[df['owner'] == \"Fourth & Above Owner\", 'owner'] = 4\n",
    "df.loc[df['owner'] == \"Test Drive Car\", 'owner'] = 5\n",
    "\n",
    "#Columna seller_type\n",
    "df.loc[df['seller_type'] == \"Individual\", 'seller_type'] = 1\n",
    "df.loc[df['seller_type'] == \"Dealer\", 'seller_type'] = 2\n",
    "df.loc[df['seller_type'] == \"Trustmark Dealer\", 'seller_type'] = 3\n",
    "\n",
    "#Columna transmission\n",
    "df.loc[df['transmission'] == \"Manual\", 'transmission'] = 1\n",
    "df.loc[df['transmission'] == \"Automatic\", 'transmission'] = 2\n",
    "df"
   ]
  },
  {
   "cell_type": "code",
   "execution_count": 617,
   "id": "e1c8aa41-d620-45ef-8ad4-85b87d8f0f23",
   "metadata": {},
   "outputs": [],
   "source": [
    "#Convertir la columnas tipo String en tipo int\n",
    "df['owner']=df['owner'].astype('int')\n",
    "df['seller_type']=df['seller_type'].astype('int')\n",
    "df['transmission']=df['transmission'].astype('int')\n",
    "#df['engine']=df['engine'].astype(int)\n",
    "#df['seats']=df['seats'].astype(int)"
   ]
  },
  {
   "cell_type": "code",
   "execution_count": 618,
   "id": "2e0bd4f3-b468-458d-be8f-653ddda277f6",
   "metadata": {},
   "outputs": [
    {
     "name": "stdout",
     "output_type": "stream",
     "text": [
      "<class 'pandas.core.frame.DataFrame'>\n",
      "RangeIndex: 8128 entries, 0 to 8127\n",
      "Data columns (total 8 columns):\n",
      " #   Column         Non-Null Count  Dtype\n",
      "---  ------         --------------  -----\n",
      " 0   year           8128 non-null   int64\n",
      " 1   selling_price  8128 non-null   int64\n",
      " 2   km_driven      8128 non-null   int64\n",
      " 3   seller_type    8128 non-null   int32\n",
      " 4   transmission   8128 non-null   int32\n",
      " 5   owner          8128 non-null   int32\n",
      " 6   engine         8128 non-null   int32\n",
      " 7   seats          8128 non-null   int32\n",
      "dtypes: int32(5), int64(3)\n",
      "memory usage: 349.4 KB\n"
     ]
    }
   ],
   "source": [
    "df.info()"
   ]
  },
  {
   "cell_type": "code",
   "execution_count": 619,
   "id": "60b3091b-1c43-4f37-b21b-0958882f4f29",
   "metadata": {},
   "outputs": [
    {
     "data": {
      "text/html": [
       "<div>\n",
       "<style scoped>\n",
       "    .dataframe tbody tr th:only-of-type {\n",
       "        vertical-align: middle;\n",
       "    }\n",
       "\n",
       "    .dataframe tbody tr th {\n",
       "        vertical-align: top;\n",
       "    }\n",
       "\n",
       "    .dataframe thead th {\n",
       "        text-align: right;\n",
       "    }\n",
       "</style>\n",
       "<table border=\"1\" class=\"dataframe\">\n",
       "  <thead>\n",
       "    <tr style=\"text-align: right;\">\n",
       "      <th></th>\n",
       "      <th>year</th>\n",
       "      <th>selling_price</th>\n",
       "      <th>km_driven</th>\n",
       "      <th>seller_type</th>\n",
       "      <th>transmission</th>\n",
       "      <th>owner</th>\n",
       "      <th>engine</th>\n",
       "      <th>seats</th>\n",
       "    </tr>\n",
       "  </thead>\n",
       "  <tbody>\n",
       "    <tr>\n",
       "      <th>count</th>\n",
       "      <td>8128.000000</td>\n",
       "      <td>8.128000e+03</td>\n",
       "      <td>8.128000e+03</td>\n",
       "      <td>8128.000000</td>\n",
       "      <td>8128.000000</td>\n",
       "      <td>8128.000000</td>\n",
       "      <td>8128.000000</td>\n",
       "      <td>8128.000000</td>\n",
       "    </tr>\n",
       "    <tr>\n",
       "      <th>mean</th>\n",
       "      <td>2013.804011</td>\n",
       "      <td>6.382718e+05</td>\n",
       "      <td>6.981951e+04</td>\n",
       "      <td>1.196604</td>\n",
       "      <td>1.129183</td>\n",
       "      <td>1.462229</td>\n",
       "      <td>1418.965059</td>\n",
       "      <td>5.269439</td>\n",
       "    </tr>\n",
       "    <tr>\n",
       "      <th>std</th>\n",
       "      <td>4.044249</td>\n",
       "      <td>8.062534e+05</td>\n",
       "      <td>5.655055e+04</td>\n",
       "      <td>0.464810</td>\n",
       "      <td>0.335423</td>\n",
       "      <td>0.721824</td>\n",
       "      <td>550.735342</td>\n",
       "      <td>1.293039</td>\n",
       "    </tr>\n",
       "    <tr>\n",
       "      <th>min</th>\n",
       "      <td>1983.000000</td>\n",
       "      <td>2.999900e+04</td>\n",
       "      <td>1.000000e+00</td>\n",
       "      <td>1.000000</td>\n",
       "      <td>1.000000</td>\n",
       "      <td>1.000000</td>\n",
       "      <td>0.000000</td>\n",
       "      <td>0.000000</td>\n",
       "    </tr>\n",
       "    <tr>\n",
       "      <th>25%</th>\n",
       "      <td>2011.000000</td>\n",
       "      <td>2.549990e+05</td>\n",
       "      <td>3.500000e+04</td>\n",
       "      <td>1.000000</td>\n",
       "      <td>1.000000</td>\n",
       "      <td>1.000000</td>\n",
       "      <td>1196.000000</td>\n",
       "      <td>5.000000</td>\n",
       "    </tr>\n",
       "    <tr>\n",
       "      <th>50%</th>\n",
       "      <td>2015.000000</td>\n",
       "      <td>4.500000e+05</td>\n",
       "      <td>6.000000e+04</td>\n",
       "      <td>1.000000</td>\n",
       "      <td>1.000000</td>\n",
       "      <td>1.000000</td>\n",
       "      <td>1248.000000</td>\n",
       "      <td>5.000000</td>\n",
       "    </tr>\n",
       "    <tr>\n",
       "      <th>75%</th>\n",
       "      <td>2017.000000</td>\n",
       "      <td>6.750000e+05</td>\n",
       "      <td>9.800000e+04</td>\n",
       "      <td>1.000000</td>\n",
       "      <td>1.000000</td>\n",
       "      <td>2.000000</td>\n",
       "      <td>1582.000000</td>\n",
       "      <td>5.000000</td>\n",
       "    </tr>\n",
       "    <tr>\n",
       "      <th>max</th>\n",
       "      <td>2020.000000</td>\n",
       "      <td>1.000000e+07</td>\n",
       "      <td>2.360457e+06</td>\n",
       "      <td>3.000000</td>\n",
       "      <td>2.000000</td>\n",
       "      <td>5.000000</td>\n",
       "      <td>3604.000000</td>\n",
       "      <td>14.000000</td>\n",
       "    </tr>\n",
       "  </tbody>\n",
       "</table>\n",
       "</div>"
      ],
      "text/plain": [
       "              year  selling_price     km_driven  seller_type  transmission  \\\n",
       "count  8128.000000   8.128000e+03  8.128000e+03  8128.000000   8128.000000   \n",
       "mean   2013.804011   6.382718e+05  6.981951e+04     1.196604      1.129183   \n",
       "std       4.044249   8.062534e+05  5.655055e+04     0.464810      0.335423   \n",
       "min    1983.000000   2.999900e+04  1.000000e+00     1.000000      1.000000   \n",
       "25%    2011.000000   2.549990e+05  3.500000e+04     1.000000      1.000000   \n",
       "50%    2015.000000   4.500000e+05  6.000000e+04     1.000000      1.000000   \n",
       "75%    2017.000000   6.750000e+05  9.800000e+04     1.000000      1.000000   \n",
       "max    2020.000000   1.000000e+07  2.360457e+06     3.000000      2.000000   \n",
       "\n",
       "             owner       engine        seats  \n",
       "count  8128.000000  8128.000000  8128.000000  \n",
       "mean      1.462229  1418.965059     5.269439  \n",
       "std       0.721824   550.735342     1.293039  \n",
       "min       1.000000     0.000000     0.000000  \n",
       "25%       1.000000  1196.000000     5.000000  \n",
       "50%       1.000000  1248.000000     5.000000  \n",
       "75%       2.000000  1582.000000     5.000000  \n",
       "max       5.000000  3604.000000    14.000000  "
      ]
     },
     "execution_count": 619,
     "metadata": {},
     "output_type": "execute_result"
    }
   ],
   "source": [
    "df.describe()"
   ]
  },
  {
   "cell_type": "code",
   "execution_count": 620,
   "id": "3d6a88dc-7eb1-41de-abb5-082e9960b363",
   "metadata": {},
   "outputs": [
    {
     "data": {
      "text/plain": [
       "Text(0.5, 1.0, 'Identificación de Datos Faltantes y Atípicos')"
      ]
     },
     "execution_count": 620,
     "metadata": {},
     "output_type": "execute_result"
    },
    {
     "data": {
      "image/png": "[encoded data removed]",
      "text/plain": [
       "<Figure size 600x300 with 1 Axes>"
      ]
     },
     "metadata": {},
     "output_type": "display_data"
    },
    {
     "data": {
      "image/png": "[encoded data removed]",
      "text/plain": [
       "<Figure size 600x300 with 1 Axes>"
      ]
     },
     "metadata": {},
     "output_type": "display_data"
    },
    {
     "data": {
      "image/png": "[encoded data removed]",
      "text/plain": [
       "<Figure size 600x300 with 1 Axes>"
      ]
     },
     "metadata": {},
     "output_type": "display_data"
    }
   ],
   "source": [
    "#Identificación de Datos Faltantes y Atípicos\n",
    "\n",
    "plt.figure(figsize=(6, 3))\n",
    "sns.boxplot(x=df['year'])\n",
    "plt.title('Identificación de Datos Faltantes y Atípicos', fontsize=10 )\n",
    "\n",
    "plt.figure(figsize=(6, 3))\n",
    "sns.boxplot(x=df['km_driven'])\n",
    "plt.title('Identificación de Datos Faltantes y Atípicos', fontsize=10 )\n",
    "\n",
    "plt.figure(figsize=(6, 3))\n",
    "sns.boxplot(x=df['engine'])\n",
    "plt.title('Identificación de Datos Faltantes y Atípicos', fontsize=10 )"
   ]
  },
  {
   "cell_type": "code",
   "execution_count": 621,
   "id": "165d94bd-1011-44b0-85d4-d6ee1b251ce5",
   "metadata": {},
   "outputs": [
    {
     "name": "stdout",
     "output_type": "stream",
     "text": [
      "El total de datos atípicos para la columna 'owner' es 5\n"
     ]
    }
   ],
   "source": [
    "#Conteo de Datos Atípicos para owner\n",
    "\n",
    "nivel_minimo=1\n",
    "nivel_maximo=4\n",
    "Total_Atipicos=((df['owner']<nivel_minimo)|(df['owner']>nivel_maximo)).sum()\n",
    "print(\"El total de datos atípicos para la columna 'owner' es {}\".format(Total_Atipicos))"
   ]
  },
  {
   "cell_type": "code",
   "execution_count": 622,
   "id": "5dd97d6b-ed5e-4055-af06-da1c064a4290",
   "metadata": {},
   "outputs": [],
   "source": [
    "# Filtra Datos Atípicos para owner\n",
    "\n",
    "df=df[(df['owner']<nivel_maximo)&(df['owner']>nivel_minimo)]"
   ]
  },
  {
   "cell_type": "code",
   "execution_count": 623,
   "id": "562e61ee-65d2-4967-8161-55c27da46225",
   "metadata": {},
   "outputs": [
    {
     "name": "stdout",
     "output_type": "stream",
     "text": [
      "El total de datos atípicos para la columna 'owner' es 0\n"
     ]
    }
   ],
   "source": [
    "#Conteo de Datos Atípicos\n",
    "\n",
    "nivel_minimo=1\n",
    "nivel_maximo=4\n",
    "Total_Atipicos=((df['owner']<nivel_minimo)|(df['owner']>nivel_maximo)).sum()\n",
    "print(\"El total de datos atípicos para la columna 'owner' es {}\".format(Total_Atipicos))"
   ]
  },
  {
   "cell_type": "code",
   "execution_count": 624,
   "id": "3edc1ada-0412-499f-be32-11e68a6c769f",
   "metadata": {},
   "outputs": [
    {
     "name": "stdout",
     "output_type": "stream",
     "text": [
      "<class 'pandas.core.frame.DataFrame'>\n",
      "Index: 2660 entries, 1 to 8122\n",
      "Data columns (total 8 columns):\n",
      " #   Column         Non-Null Count  Dtype\n",
      "---  ------         --------------  -----\n",
      " 0   year           2660 non-null   int64\n",
      " 1   selling_price  2660 non-null   int64\n",
      " 2   km_driven      2660 non-null   int64\n",
      " 3   seller_type    2660 non-null   int32\n",
      " 4   transmission   2660 non-null   int32\n",
      " 5   owner          2660 non-null   int32\n",
      " 6   engine         2660 non-null   int32\n",
      " 7   seats          2660 non-null   int32\n",
      "dtypes: int32(5), int64(3)\n",
      "memory usage: 135.1 KB\n"
     ]
    }
   ],
   "source": [
    "df.info()"
   ]
  },
  {
   "cell_type": "raw",
   "id": "834ed914-d09a-41c5-8ff0-18a818e81838",
   "metadata": {},
   "source": [
    "2. Preprocesar los datos limpiándolos, tratando valores faltantes y transformándolos según sea necesario"
   ]
  },
  {
   "cell_type": "code",
   "execution_count": 626,
   "id": "80edce7d-abe1-4899-82de-0ad81a658098",
   "metadata": {},
   "outputs": [
    {
     "name": "stdout",
     "output_type": "stream",
     "text": [
      "Cantidad de Registros con cero en year:  0\n",
      "Cantidad de Registros con cero en km_driven:  0\n",
      "Cantidad de Registros con cero en seller_type:  0\n",
      "Cantidad de Registros con cero en transmission:  0\n",
      "Cantidad de Registros con cero en owner:  0\n",
      "Cantidad de Registros con cero en engine:  133\n",
      "Cantidad de Registros con cero en seats:  133\n"
     ]
    }
   ],
   "source": [
    "# Revisión de datos con 0\n",
    "print(\"Cantidad de Registros con cero en year: \",df['year'].isin([0]).sum())\n",
    "print(\"Cantidad de Registros con cero en km_driven: \",df['km_driven'].isin([0]).sum())\n",
    "print(\"Cantidad de Registros con cero en seller_type: \",df['seller_type'].isin([0]).sum())\n",
    "print(\"Cantidad de Registros con cero en transmission: \",df['transmission'].isin([0]).sum())\n",
    "print(\"Cantidad de Registros con cero en owner: \",df['owner'].isin([0]).sum())\n",
    "print(\"Cantidad de Registros con cero en engine: \",df['engine'].isin([0]).sum())\n",
    "print(\"Cantidad de Registros con cero en seats: \",df['seats'].isin([0]).sum())"
   ]
  },
  {
   "cell_type": "code",
   "execution_count": 627,
   "id": "9402ac4a-6caf-4f83-9228-207ca054893f",
   "metadata": {},
   "outputs": [
    {
     "name": "stdout",
     "output_type": "stream",
     "text": [
      "Cantidad de Registros vacíos en year:  0\n",
      "Cantidad de Registros vacíos en km_driven:  0\n",
      "Cantidad de Registros vacíos en seller_type:  0\n",
      "Cantidad de Registros vacíos en transmission:  0\n",
      "Cantidad de Registros vacíos en owner:  0\n",
      "Cantidad de Registros vacíos en seats:  0\n"
     ]
    }
   ],
   "source": [
    "#Revisión de datos faltantes\n",
    "\n",
    "print(\"Cantidad de Registros vacíos en year: \", df['year'].isnull().sum())\n",
    "print(\"Cantidad de Registros vacíos en km_driven: \", df['km_driven'].isnull().sum())\n",
    "print(\"Cantidad de Registros vacíos en seller_type: \", df['seller_type'].isnull().sum())\n",
    "print(\"Cantidad de Registros vacíos en transmission: \", df['transmission'].isnull().sum())\n",
    "print(\"Cantidad de Registros vacíos en owner: \",df['owner'].isnull().sum())\n",
    "print(\"Cantidad de Registros vacíos en seats: \", df['seats'].isnull().sum())"
   ]
  },
  {
   "cell_type": "code",
   "execution_count": 628,
   "id": "cb13a9fd-0178-4e32-9658-030794b7f68c",
   "metadata": {},
   "outputs": [
    {
     "name": "stdout",
     "output_type": "stream",
     "text": [
      "<class 'pandas.core.frame.DataFrame'>\n",
      "Index: 2660 entries, 1 to 8122\n",
      "Data columns (total 8 columns):\n",
      " #   Column         Non-Null Count  Dtype\n",
      "---  ------         --------------  -----\n",
      " 0   year           2660 non-null   int64\n",
      " 1   selling_price  2660 non-null   int64\n",
      " 2   km_driven      2660 non-null   int64\n",
      " 3   seller_type    2660 non-null   int32\n",
      " 4   transmission   2660 non-null   int32\n",
      " 5   owner          2660 non-null   int32\n",
      " 6   engine         2660 non-null   int32\n",
      " 7   seats          2660 non-null   int32\n",
      "dtypes: int32(5), int64(3)\n",
      "memory usage: 135.1 KB\n"
     ]
    }
   ],
   "source": [
    "df.info()"
   ]
  },
  {
   "cell_type": "raw",
   "id": "f1d42a74-d541-48fe-ac0c-5ad1cab13aeb",
   "metadata": {},
   "source": [
    "3.Seleccionar las características más relevantes para entrenar el modelo utilizando selección de características\n",
    "Característica de interes:\n",
    "\n",
    "Precio de Venta: en lo que se vende un auto\n",
    "Predecir el precio de venta de un auto"
   ]
  },
  {
   "cell_type": "code",
   "execution_count": 629,
   "id": "ba180525-79e3-4d43-bf53-3e15c4f59a19",
   "metadata": {},
   "outputs": [
    {
     "data": {
      "text/plain": [
       "selling_price\n",
       "300000     88\n",
       "350000     86\n",
       "250000     85\n",
       "150000     77\n",
       "200000     74\n",
       "           ..\n",
       "1151000     1\n",
       "501000      1\n",
       "2150000     1\n",
       "1190000     1\n",
       "307000      1\n",
       "Name: count, Length: 347, dtype: int64"
      ]
     },
     "execution_count": 629,
     "metadata": {},
     "output_type": "execute_result"
    }
   ],
   "source": [
    "# Total de autos vendidos según su precio\n",
    "\n",
    "df['selling_price'].value_counts()"
   ]
  },
  {
   "cell_type": "code",
   "execution_count": 630,
   "id": "70724640-6558-4a62-8404-24eb069e7151",
   "metadata": {},
   "outputs": [
    {
     "data": {
      "text/plain": [
       "1       370000\n",
       "2       158000\n",
       "7        45000\n",
       "10      500000\n",
       "11       92000\n",
       "12      280000\n",
       "13      200000\n",
       "14      180000\n",
       "16      778000\n",
       "17      500000\n",
       "18      150000\n",
       "20      174000\n",
       "31       70000\n",
       "32      150000\n",
       "35      330000\n",
       "39      425000\n",
       "49     1450000\n",
       "55     1650000\n",
       "57     1750000\n",
       "62      190000\n",
       "64      630000\n",
       "65      600000\n",
       "73      235000\n",
       "75     1700000\n",
       "76      450000\n",
       "77      450000\n",
       "82     2500000\n",
       "92      351000\n",
       "93      535000\n",
       "98      120000\n",
       "100     185000\n",
       "101     200000\n",
       "103     270000\n",
       "105     625000\n",
       "106     400000\n",
       "112     522000\n",
       "114     300000\n",
       "119     300000\n",
       "120     400000\n",
       "125     360000\n",
       "127     625000\n",
       "128     135000\n",
       "129     700000\n",
       "149     975000\n",
       "163    1525000\n",
       "171     300000\n",
       "175     390000\n",
       "176     550000\n",
       "177      40000\n",
       "181     400000\n",
       "Name: selling_price, dtype: int64"
      ]
     },
     "execution_count": 630,
     "metadata": {},
     "output_type": "execute_result"
    }
   ],
   "source": [
    "df['selling_price'].head(50)"
   ]
  },
  {
   "cell_type": "raw",
   "id": "0b1819ac-2b8f-4a8f-8034-3cf5c987e28d",
   "metadata": {},
   "source": [
    "4. Dividir el dataset en Train y Test para evaluar correctamente el modelo"
   ]
  },
  {
   "cell_type": "code",
   "execution_count": 631,
   "id": "9d9c4821-ac28-443e-8b16-21720470ee34",
   "metadata": {},
   "outputs": [],
   "source": [
    "# Porcentaje de datos para entrenamiento (train) = 75% , y para prueba (test) = 25%\n",
    "\n",
    "# Se crean variables X y Y para almacenar la información del entrenamiento\n",
    "\n",
    "X = df.drop('selling_price',axis=1) # Se cargan los datos de train sin los datos de la columna selling_price\n",
    "Y = df['selling_price'] # Se cargan los datos de train con los datos de la columna selling_price\n",
    "\n",
    "#La función train_test_split crea una división de un conjunto de datos en dos bloques uno de entrenamiento y otro de prueba (train and test)\n",
    "X_train, X_test, Y_train, Y_test = train_test_split(X, Y, test_size=0.25, random_state= 0)"
   ]
  },
  {
   "cell_type": "code",
   "execution_count": 632,
   "id": "367b4dbd-88c2-4c59-a026-1555d1e58c3c",
   "metadata": {},
   "outputs": [
    {
     "name": "stdout",
     "output_type": "stream",
     "text": [
      "      year  km_driven  seller_type  transmission  owner  engine  seats\n",
      "1742  2008      80000            1             1      2     796      5\n",
      "5809  2013     100000            1             1      2    2494      7\n",
      "3564  2018      15000            1             1      2    2498      6\n",
      "2786  2015     120000            1             1      2    1405      5\n",
      "8037  2012      90000            1             1      3    1405      5\n",
      "...    ...        ...          ...           ...    ...     ...    ...\n",
      "5394  2012      96000            2             2      2    1998      5\n",
      "2325  2020     120000            1             1      2     998      5\n",
      "2511  2014      50000            1             1      2    1197      5\n",
      "5145  2006     120000            1             1      2    1497      5\n",
      "7996  2000      50000            1             1      2       0      0\n",
      "\n",
      "[1995 rows x 7 columns]\n"
     ]
    }
   ],
   "source": [
    "print (X_train)"
   ]
  },
  {
   "cell_type": "code",
   "execution_count": 633,
   "id": "f6f14c73-f95d-4f86-a6ba-5b9e28ca83e2",
   "metadata": {},
   "outputs": [
    {
     "name": "stdout",
     "output_type": "stream",
     "text": [
      "1742    110000\n",
      "5809    625000\n",
      "3564    850000\n",
      "2786    229999\n",
      "8037    175000\n",
      "         ...  \n",
      "5394    925000\n",
      "2325    250000\n",
      "2511    380000\n",
      "5145    180000\n",
      "7996    140000\n",
      "Name: selling_price, Length: 1995, dtype: int64\n"
     ]
    }
   ],
   "source": [
    "print (Y_train)"
   ]
  },
  {
   "cell_type": "code",
   "execution_count": 634,
   "id": "e78d8847-2ad4-4f05-8657-71bdca31a527",
   "metadata": {},
   "outputs": [
    {
     "data": {
      "text/plain": [
       "(1995, 7)"
      ]
     },
     "execution_count": 634,
     "metadata": {},
     "output_type": "execute_result"
    }
   ],
   "source": [
    "X_train.shape"
   ]
  },
  {
   "cell_type": "code",
   "execution_count": 635,
   "id": "0c6d54d4-4bc6-498b-9f1e-2d31ab64f76f",
   "metadata": {},
   "outputs": [
    {
     "data": {
      "text/plain": [
       "(665, 7)"
      ]
     },
     "execution_count": 635,
     "metadata": {},
     "output_type": "execute_result"
    }
   ],
   "source": [
    "X_test.shape"
   ]
  },
  {
   "cell_type": "code",
   "execution_count": 636,
   "id": "83a5d037-1a50-46bd-a59a-37af24617166",
   "metadata": {},
   "outputs": [],
   "source": [
    "model = LinearRegression()"
   ]
  },
  {
   "cell_type": "code",
   "execution_count": 637,
   "id": "4a4da3a8-7ec8-45e6-bd4a-f678ab0e8d83",
   "metadata": {},
   "outputs": [
    {
     "data": {
      "text/html": [
       "<style>#sk-container-id-7 {color: black;background-color: white;}#sk-container-id-7 pre{padding: 0;}#sk-container-id-7 div.sk-toggleable {background-color: white;}#sk-container-id-7 label.sk-toggleable__label {cursor: pointer;display: block;width: 100%;margin-bottom: 0;padding: 0.3em;box-sizing: border-box;text-align: center;}#sk-container-id-7 label.sk-toggleable__label-arrow:before {content: \"▸\";float: left;margin-right: 0.25em;color: #696969;}#sk-container-id-7 label.sk-toggleable__label-arrow:hover:before {color: black;}#sk-container-id-7 div.sk-estimator:hover label.sk-toggleable__label-arrow:before {color: black;}#sk-container-id-7 div.sk-toggleable__content {max-height: 0;max-width: 0;overflow: hidden;text-align: left;background-color: #f0f8ff;}#sk-container-id-7 div.sk-toggleable__content pre {margin: 0.2em;color: black;border-radius: 0.25em;background-color: #f0f8ff;}#sk-container-id-7 input.sk-toggleable__control:checked~div.sk-toggleable__content {max-height: 200px;max-width: 100%;overflow: auto;}#sk-container-id-7 input.sk-toggleable__control:checked~label.sk-toggleable__label-arrow:before {content: \"▾\";}#sk-container-id-7 div.sk-estimator input.sk-toggleable__control:checked~label.sk-toggleable__label {background-color: #d4ebff;}#sk-container-id-7 div.sk-label input.sk-toggleable__control:checked~label.sk-toggleable__label {background-color: #d4ebff;}#sk-container-id-7 input.sk-hidden--visually {border: 0;clip: rect(1px 1px 1px 1px);clip: rect(1px, 1px, 1px, 1px);height: 1px;margin: -1px;overflow: hidden;padding: 0;position: absolute;width: 1px;}#sk-container-id-7 div.sk-estimator {font-family: monospace;background-color: #f0f8ff;border: 1px dotted black;border-radius: 0.25em;box-sizing: border-box;margin-bottom: 0.5em;}#sk-container-id-7 div.sk-estimator:hover {background-color: #d4ebff;}#sk-container-id-7 div.sk-parallel-item::after {content: \"\";width: 100%;border-bottom: 1px solid gray;flex-grow: 1;}#sk-container-id-7 div.sk-label:hover label.sk-toggleable__label {background-color: #d4ebff;}#sk-container-id-7 div.sk-serial::before {content: \"\";position: absolute;border-left: 1px solid gray;box-sizing: border-box;top: 0;bottom: 0;left: 50%;z-index: 0;}#sk-container-id-7 div.sk-serial {display: flex;flex-direction: column;align-items: center;background-color: white;padding-right: 0.2em;padding-left: 0.2em;position: relative;}#sk-container-id-7 div.sk-item {position: relative;z-index: 1;}#sk-container-id-7 div.sk-parallel {display: flex;align-items: stretch;justify-content: center;background-color: white;position: relative;}#sk-container-id-7 div.sk-item::before, #sk-container-id-7 div.sk-parallel-item::before {content: \"\";position: absolute;border-left: 1px solid gray;box-sizing: border-box;top: 0;bottom: 0;left: 50%;z-index: -1;}#sk-container-id-7 div.sk-parallel-item {display: flex;flex-direction: column;z-index: 1;position: relative;background-color: white;}#sk-container-id-7 div.sk-parallel-item:first-child::after {align-self: flex-end;width: 50%;}#sk-container-id-7 div.sk-parallel-item:last-child::after {align-self: flex-start;width: 50%;}#sk-container-id-7 div.sk-parallel-item:only-child::after {width: 0;}#sk-container-id-7 div.sk-dashed-wrapped {border: 1px dashed gray;margin: 0 0.4em 0.5em 0.4em;box-sizing: border-box;padding-bottom: 0.4em;background-color: white;}#sk-container-id-7 div.sk-label label {font-family: monospace;font-weight: bold;display: inline-block;line-height: 1.2em;}#sk-container-id-7 div.sk-label-container {text-align: center;}#sk-container-id-7 div.sk-container {/* jupyter's `normalize.less` sets `[hidden] { display: none; }` but bootstrap.min.css set `[hidden] { display: none !important; }` so we also need the `!important` here to be able to override the default hidden behavior on the sphinx rendered scikit-learn.org. See: https://github.com/scikit-learn/scikit-learn/issues/21755 */display: inline-block !important;position: relative;}#sk-container-id-7 div.sk-text-repr-fallback {display: none;}</style><div id=\"sk-container-id-7\" class=\"sk-top-container\"><div class=\"sk-text-repr-fallback\"><pre>LinearRegression()</pre><b>In a Jupyter environment, please rerun this cell to show the HTML representation or trust the notebook. <br />On GitHub, the HTML representation is unable to render, please try loading this page with nbviewer.org.</b></div><div class=\"sk-container\" hidden><div class=\"sk-item\"><div class=\"sk-estimator sk-toggleable\"><input class=\"sk-toggleable__control sk-hidden--visually\" id=\"sk-estimator-id-7\" type=\"checkbox\" checked><label for=\"sk-estimator-id-7\" class=\"sk-toggleable__label sk-toggleable__label-arrow\">LinearRegression</label><div class=\"sk-toggleable__content\"><pre>LinearRegression()</pre></div></div></div></div></div>"
      ],
      "text/plain": [
       "LinearRegression()"
      ]
     },
     "execution_count": 637,
     "metadata": {},
     "output_type": "execute_result"
    }
   ],
   "source": [
    "model.fit(X_train, Y_train)"
   ]
  },
  {
   "cell_type": "code",
   "execution_count": 638,
   "id": "a4c6a23e-83d8-4e24-94a9-ae49cf0828f3",
   "metadata": {},
   "outputs": [
    {
     "data": {
      "text/plain": [
       "array([ 3.38412132e+04, -2.89754718e-01,  8.66385152e+04,  4.15733014e+05,\n",
       "       -1.36780001e+04,  2.97309769e+02, -5.68947972e+04])"
      ]
     },
     "execution_count": 638,
     "metadata": {},
     "output_type": "execute_result"
    }
   ],
   "source": [
    "model.coef_"
   ]
  },
  {
   "cell_type": "code",
   "execution_count": 639,
   "id": "ef115d5f-0df2-44bf-b6b5-af40c5dddc78",
   "metadata": {},
   "outputs": [
    {
     "data": {
      "text/html": [
       "<div>\n",
       "<style scoped>\n",
       "    .dataframe tbody tr th:only-of-type {\n",
       "        vertical-align: middle;\n",
       "    }\n",
       "\n",
       "    .dataframe tbody tr th {\n",
       "        vertical-align: top;\n",
       "    }\n",
       "\n",
       "    .dataframe thead th {\n",
       "        text-align: right;\n",
       "    }\n",
       "</style>\n",
       "<table border=\"1\" class=\"dataframe\">\n",
       "  <thead>\n",
       "    <tr style=\"text-align: right;\">\n",
       "      <th></th>\n",
       "      <th>Coedicients</th>\n",
       "    </tr>\n",
       "  </thead>\n",
       "  <tbody>\n",
       "    <tr>\n",
       "      <th>year</th>\n",
       "      <td>33841.213154</td>\n",
       "    </tr>\n",
       "    <tr>\n",
       "      <th>km_driven</th>\n",
       "      <td>-0.289755</td>\n",
       "    </tr>\n",
       "    <tr>\n",
       "      <th>seller_type</th>\n",
       "      <td>86638.515194</td>\n",
       "    </tr>\n",
       "    <tr>\n",
       "      <th>transmission</th>\n",
       "      <td>415733.013963</td>\n",
       "    </tr>\n",
       "    <tr>\n",
       "      <th>owner</th>\n",
       "      <td>-13678.000084</td>\n",
       "    </tr>\n",
       "    <tr>\n",
       "      <th>engine</th>\n",
       "      <td>297.309769</td>\n",
       "    </tr>\n",
       "    <tr>\n",
       "      <th>seats</th>\n",
       "      <td>-56894.797203</td>\n",
       "    </tr>\n",
       "  </tbody>\n",
       "</table>\n",
       "</div>"
      ],
      "text/plain": [
       "                Coedicients\n",
       "year           33841.213154\n",
       "km_driven         -0.289755\n",
       "seller_type    86638.515194\n",
       "transmission  415733.013963\n",
       "owner         -13678.000084\n",
       "engine           297.309769\n",
       "seats         -56894.797203"
      ]
     },
     "execution_count": 639,
     "metadata": {},
     "output_type": "execute_result"
    }
   ],
   "source": [
    "pd.DataFrame(model.coef_, X.columns, columns=['Coedicients'])"
   ]
  },
  {
   "cell_type": "code",
   "execution_count": 640,
   "id": "f2e45924-48b7-4956-84f8-ece2e18c5c67",
   "metadata": {},
   "outputs": [],
   "source": [
    "Y_pred = model.predict(X_test)"
   ]
  },
  {
   "cell_type": "code",
   "execution_count": 641,
   "id": "367f4e67-3a2b-4f0e-aa3c-188f7c3f5678",
   "metadata": {},
   "outputs": [],
   "source": [
    "MAE= metrics.mean_absolute_error(Y_test, Y_pred)\n",
    "MSE=metrics.mean_squared_error(Y_test, Y_pred)\n",
    "RMSE= np.sqrt(MSE)"
   ]
  },
  {
   "cell_type": "code",
   "execution_count": 642,
   "id": "fe279f8f-cd66-4810-a254-08fefbc1d0c4",
   "metadata": {},
   "outputs": [
    {
     "data": {
      "text/plain": [
       "135978.09950038465"
      ]
     },
     "execution_count": 642,
     "metadata": {},
     "output_type": "execute_result"
    }
   ],
   "source": [
    "MAE"
   ]
  },
  {
   "cell_type": "code",
   "execution_count": 643,
   "id": "c3c51a97-f7ee-44f7-ad9e-0133d1cc6510",
   "metadata": {},
   "outputs": [
    {
     "data": {
      "text/plain": [
       "42850343367.714355"
      ]
     },
     "execution_count": 643,
     "metadata": {},
     "output_type": "execute_result"
    }
   ],
   "source": [
    "MSE"
   ]
  },
  {
   "cell_type": "code",
   "execution_count": 644,
   "id": "2c40adb6-2f14-402d-aa70-7a1b0cbd6c1c",
   "metadata": {},
   "outputs": [
    {
     "data": {
      "text/plain": [
       "207003.2448241195"
      ]
     },
     "execution_count": 644,
     "metadata": {},
     "output_type": "execute_result"
    }
   ],
   "source": [
    "RMSE"
   ]
  },
  {
   "cell_type": "code",
   "execution_count": 645,
   "id": "70056d96-247b-4350-89eb-4e2ed84964dc",
   "metadata": {},
   "outputs": [],
   "source": [
    "r2 = r2_score(Y_test, Y_pred)"
   ]
  },
  {
   "cell_type": "code",
   "execution_count": 648,
   "id": "cb3450da-1337-40cf-b5f9-cebdb4951bc4",
   "metadata": {},
   "outputs": [
    {
     "data": {
      "text/plain": [
       "0.5660368800897334"
      ]
     },
     "execution_count": 648,
     "metadata": {},
     "output_type": "execute_result"
    }
   ],
   "source": [
    "r2"
   ]
  },
  {
   "cell_type": "code",
   "execution_count": 649,
   "id": "a14fb5ba-fa1e-4bbd-944e-442f5102987d",
   "metadata": {},
   "outputs": [
    {
     "data": {
      "text/plain": [
       "Text(0, 0.5, 'y_pred')"
      ]
     },
     "execution_count": 649,
     "metadata": {},
     "output_type": "execute_result"
    },
    {
     "data": {
      "image/png": "[encoded data removed]",
      "text/plain": [
       "<Figure size 640x480 with 1 Axes>"
      ]
     },
     "metadata": {},
     "output_type": "display_data"
    }
   ],
   "source": [
    "# Plotting y_test and y_pred to understand the spread.\n",
    "fig = plt.figure()\n",
    "plt.scatter(Y_test,Y_pred)\n",
    "fig.suptitle('y_test vs y_pred', fontsize=20)              # Plot heading \n",
    "plt.xlabel('y_test', fontsize=18)                          # X-label\n",
    "plt.ylabel('y_pred', fontsize=16)                          # Y-label"
   ]
  },
  {
   "cell_type": "code",
   "execution_count": 650,
   "id": "819fe325-49b6-4596-8a46-5ba312d76e33",
   "metadata": {},
   "outputs": [
    {
     "name": "stdout",
     "output_type": "stream",
     "text": [
      "La ecuación de la recta es: y = -68288407.92059591 + 33841.21315423288*x\n"
     ]
    }
   ],
   "source": [
    "print(f\"La ecuación de la recta es: y = {model.intercept_} + {model.coef_[0]}*x\")"
   ]
  },
  {
   "cell_type": "code",
   "execution_count": 651,
   "id": "9b864de3-b394-4bab-b311-acf1be90fbe6",
   "metadata": {},
   "outputs": [],
   "source": [
    "test_residual = Y_test - Y_pred"
   ]
  },
  {
   "cell_type": "code",
   "execution_count": 652,
   "id": "ea9d3a9e-da91-4c4c-8335-3a60481f70aa",
   "metadata": {},
   "outputs": [
    {
     "data": {},
     "metadata": {},
     "output_type": "display_data"
    },
    {
     "data": {
      "application/vnd.holoviews_exec.v0+json": "",
      "text/html": [
       "<div id='p1319'>\n",
       "  <div id=\"fe44bd6d-0177-4c62-831d-5187efc991b1\" data-root-id=\"p1319\" style=\"display: contents;\"></div>\n",
       "</div>\n",
       "<script type=\"application/javascript\">(function(root) {\n",
       "  var docs_json = {\"a42b4ff7-8cce-447b-9282-be0eaf7582e9\":{\"version\":\"3.3.4\",\"title\":\"Bokeh Application\",\"roots\":[{\"type\":\"object\",\"name\":\"Row\",\"id\":\"p1319\",\"attributes\":{\"name\":\"Row01777\",\"tags\":[\"embedded\"],\"stylesheets\":[\"\\n:host(.pn-loading.pn-arc):before, .pn-loading.pn-arc:before {\\n  background-image: url(\\\"data:image/svg+xml;base64,PHN2ZyB4bWxucz0iaHR0cDovL3d3dy53My5vcmcvMjAwMC9zdmciIHN0eWxlPSJtYXJnaW46IGF1dG87IGJhY2tncm91bmQ6IG5vbmU7IGRpc3BsYXk6IGJsb2NrOyBzaGFwZS1yZW5kZXJpbmc6IGF1dG87IiB2aWV3Qm94PSIwIDAgMTAwIDEwMCIgcHJlc2VydmVBc3BlY3RSYXRpbz0ieE1pZFlNaWQiPiAgPGNpcmNsZSBjeD0iNTAiIGN5PSI1MCIgZmlsbD0ibm9uZSIgc3Ryb2tlPSIjYzNjM2MzIiBzdHJva2Utd2lkdGg9IjEwIiByPSIzNSIgc3Ryb2tlLWRhc2hhcnJheT0iMTY0LjkzMzYxNDMxMzQ2NDE1IDU2Ljk3Nzg3MTQzNzgyMTM4Ij4gICAgPGFuaW1hdGVUcmFuc2Zvcm0gYXR0cmlidXRlTmFtZT0idHJhbnNmb3JtIiB0eXBlPSJyb3RhdGUiIHJlcGVhdENvdW50PSJpbmRlZmluaXRlIiBkdXI9IjFzIiB2YWx1ZXM9IjAgNTAgNTA7MzYwIDUwIDUwIiBrZXlUaW1lcz0iMDsxIj48L2FuaW1hdGVUcmFuc2Zvcm0+ICA8L2NpcmNsZT48L3N2Zz4=\\\");\\n  background-size: auto calc(min(50%, 400px));\\n}\",{\"type\":\"object\",\"name\":\"ImportedStyleSheet\",\"id\":\"p1322\",\"attributes\":{\"url\":\"https://cdn.holoviz.org/panel/1.3.8/dist/css/loading.css\"}},{\"type\":\"object\",\"name\":\"ImportedStyleSheet\",\"id\":\"p1378\",\"attributes\":{\"url\":\"https://cdn.holoviz.org/panel/1.3.8/dist/css/listpanel.css\"}},{\"type\":\"object\",\"name\":\"ImportedStyleSheet\",\"id\":\"p1320\",\"attributes\":{\"url\":\"https://cdn.holoviz.org/panel/1.3.8/dist/bundled/theme/default.css\"}},{\"type\":\"object\",\"name\":\"ImportedStyleSheet\",\"id\":\"p1321\",\"attributes\":{\"url\":\"https://cdn.holoviz.org/panel/1.3.8/dist/bundled/theme/native.css\"}}],\"min_width\":700,\"margin\":0,\"sizing_mode\":\"stretch_width\",\"align\":\"start\",\"children\":[{\"type\":\"object\",\"name\":\"Spacer\",\"id\":\"p1323\",\"attributes\":{\"name\":\"HSpacer01784\",\"stylesheets\":[\"\\n:host(.pn-loading.pn-arc):before, .pn-loading.pn-arc:before {\\n  background-image: url(\\\"data:image/svg+xml;base64,PHN2ZyB4bWxucz0iaHR0cDovL3d3dy53My5vcmcvMjAwMC9zdmciIHN0eWxlPSJtYXJnaW46IGF1dG87IGJhY2tncm91bmQ6IG5vbmU7IGRpc3BsYXk6IGJsb2NrOyBzaGFwZS1yZW5kZXJpbmc6IGF1dG87IiB2aWV3Qm94PSIwIDAgMTAwIDEwMCIgcHJlc2VydmVBc3BlY3RSYXRpbz0ieE1pZFlNaWQiPiAgPGNpcmNsZSBjeD0iNTAiIGN5PSI1MCIgZmlsbD0ibm9uZSIgc3Ryb2tlPSIjYzNjM2MzIiBzdHJva2Utd2lkdGg9IjEwIiByPSIzNSIgc3Ryb2tlLWRhc2hhcnJheT0iMTY0LjkzMzYxNDMxMzQ2NDE1IDU2Ljk3Nzg3MTQzNzgyMTM4Ij4gICAgPGFuaW1hdGVUcmFuc2Zvcm0gYXR0cmlidXRlTmFtZT0idHJhbnNmb3JtIiB0eXBlPSJyb3RhdGUiIHJlcGVhdENvdW50PSJpbmRlZmluaXRlIiBkdXI9IjFzIiB2YWx1ZXM9IjAgNTAgNTA7MzYwIDUwIDUwIiBrZXlUaW1lcz0iMDsxIj48L2FuaW1hdGVUcmFuc2Zvcm0+ICA8L2NpcmNsZT48L3N2Zz4=\\\");\\n  background-size: auto calc(min(50%, 400px));\\n}\",{\"id\":\"p1322\"},{\"id\":\"p1320\"},{\"id\":\"p1321\"}],\"margin\":0,\"sizing_mode\":\"stretch_width\",\"align\":\"start\"}},{\"type\":\"object\",\"name\":\"Figure\",\"id\":\"p1331\",\"attributes\":{\"width\":700,\"height\":300,\"margin\":[5,10],\"sizing_mode\":\"fixed\",\"align\":\"start\",\"x_range\":{\"type\":\"object\",\"name\":\"Range1d\",\"id\":\"p1324\",\"attributes\":{\"tags\":[[[\"Error Values\",\"Error Values\",null]],[]],\"start\":-892067.9501758463,\"end\":1227152.5450701811,\"reset_start\":-892067.9501758463,\"reset_end\":1227152.5450701811}},\"y_range\":{\"type\":\"object\",\"name\":\"Range1d\",\"id\":\"p1325\",\"attributes\":{\"tags\":[[[\"Error Values_density\",\"Density\",null]],{\"type\":\"map\",\"entries\":[[\"invert_yaxis\",false],[\"autorange\",false]]}],\"end\":3.2192349187529185e-06,\"reset_start\":0.0,\"reset_end\":3.2192349187529185e-06}},\"x_scale\":{\"type\":\"object\",\"name\":\"LinearScale\",\"id\":\"p1341\"},\"y_scale\":{\"type\":\"object\",\"name\":\"LinearScale\",\"id\":\"p1342\"},\"title\":{\"type\":\"object\",\"name\":\"Title\",\"id\":\"p1334\",\"attributes\":{\"text_color\":\"black\",\"text_font_size\":\"12pt\"}},\"renderers\":[{\"type\":\"object\",\"name\":\"GlyphRenderer\",\"id\":\"p1371\",\"attributes\":{\"data_source\":{\"type\":\"object\",\"name\":\"ColumnDataSource\",\"id\":\"p1362\",\"attributes\":{\"selected\":{\"type\":\"object\",\"name\":\"Selection\",\"id\":\"p1363\",\"attributes\":{\"indices\":[],\"line_indices\":[]}},\"selection_policy\":{\"type\":\"object\",\"name\":\"UnionRenderers\",\"id\":\"p1364\"},\"data\":{\"type\":\"map\",\"entries\":[[\"x\",{\"type\":\"ndarray\",\"array\":{\"type\":\"bytes\",\"data\":\"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\"},\"shape\":[200],\"dtype\":\"float64\",\"order\":\"little\"}],[\"y\",{\"type\":\"ndarray\",\"array\":{\"type\":\"bytes\",\"data\":\"AAAAAAAAAAAAAAAAAAAAAAAAAAAAAAAAAAAAAAAAAAAAAAAAAAAAAAAAAAAAAAAAAAAAAAAAAAAAAAAAAAAAAAAAAAAAAAAAAAAAAAAAAAAAAAAAAAAAAAAAAAAAAAAAAAAAAAAAAAAAAAAAAAAAAAAAAAAAAAAAAAAAAAAAAAAAAAAAAAAAAAAAAAAAAAAAAAAAAAAAAAAAAAAAAAAAAAAAAAAAAAAAAAAAAAAAAAAAAAAAAAAAAAAAAAAAAAAAAAAAAAAAAAAAAAAAAAAAAAAAAAAAAAAAAAAAAAAAAAAAAAAAAAAAAAAAAAAAAAAAAAAAAAAAAAAAAAAAAAAAAAAAAAAAAAAAAAAAAAAAAAAAAAAAAAAAAAAAAAAAAAAAAAAAAAAAAAAAAAAAAAAAAAAAAAAAAAAAAAAAAAAAAAAAAAAAAAAAAAAAAAAAAAAAAAAAAAAAAAAAAAAAAAAAAAAAAAAAAAAAAAAAAAAAAAAAAAAAAAAAAAAAAAAAAAAAAAAAAAAAAAAAAAAAAAAAAAAAAAAAAAAAAAAAAAAAAAAAAAAAAAAAAAAAAAAAAAAAAAAAAAAAAAAAAAAAAAAAAAAAAAAAAAAAAAAAAAAAAAAAAAAAAAAAAAAAAAAAAAAAAAAAAAAAAAAAAAAAAAAAAAAAAAAAAAAAAAAAAAAAAAAAAAAAAAAAAAAAAAAAAAAAAAAAAAAAAAAAAAAAAAAAAAAAAAAAAAAAAAAAAAAAAAAAAAAAAAAAAAAAAAAAAAAAAAAAAAAAAAAAAAAAAAAAAAAAAAAAAAAAAAAAAAAAAAAAAAAAAAAAAAAAAAAAAAAAAAAAAAAAAAAAAAAAAAAAAAAAAAAAAAAAAAAAAAAAAAAAAAAAAAAAAAAAAAAAAAAAAAAAAAAAAAAAAAAAAAAAAAAAAAAAAAAAAAAAAAAAAAAAAAAAAAAAAAAAAAAAAAAAAAAAAAAAAAAAAAAAAAAAAAAAAAAAAAAAAAAAAAAAAAAAAAAAAAAAAAAAAAAAAAAAAAAAAAAAAAAAAAAAAAAAAAAAAAAAAAAAAAAAAAAAAADCNoQ/7Oz0Pd6XwGYhsA8+NQKthebpJD6uSruR5xc4Pvvun666Q0g+ELZ6KaZoVT5I4V1cUplgPuVNASYQuWY+OSpAt8Kpaz6Nmy7CiE9uPsxvW3Kld24+REeoa6nhbD4H2fQKp61qPnMUgpkxp2g+9JGlNwzzZj5yUjkkuUFlPlDgq1WaQ2M+Q/yRSt8EYT5cuW5kNPtdPoMiqMXSpFs+wvH39aDXWz44jVQlKlBePh78HmeJ4WA+YdTPRH1GYj55SY9RBcJiPju09AO7NGI+1nIzyznyYD60wSvHAjxfPrjTxm70810+IOEKBpRZXz4alodU7RViPhpmBiaVS2Y+P5k8p1w4bD4ei1sjktZxPlNSI6xNLnY+vWZMBYT4ej6hvwJFExeAPhOLpIk9CoM+BSl480Obhj7IZWnlkBOLPnYWIRhuTZA+WbrY/EaQkz4goscO9yuXPjccfXXg4po+WdC9Ywp1nj7A8NaOaOOgPgBj0Fa8haI+HRx4AzVrpD6IUDWkVP+mPszluU6Lrqo+Ocb2EUzDrz5N050q0CizPvHqh/QiG7c+QUjKyDaRuz45UqgoZCrAPu8VWrb0kcI+Dy6bqlvWxD6Rn6gOMMLGPtxYZSklFMg+XMwju8yMyD6qTnXyMAfIPmLGN0REjcY+BIwbMfRYxD7QHebJ/b/BPmxCDDreLL4+RQczq8suuT4idZCj0Lq0PlKn6e3J07A+VxA7EffPqj6ATslsGdWkPgYIOE7Ud58+S0BdDeg8lz6k+KvUvyORPny7vtYAOIo+v4yNLw+UhT6I8rIZyD+DPgvpx8DSG4I+X3RFc9pSgT5lptcvyWmAPnQrWcDsSX4+3+asQmLkej4+ey5wDdN2PlvvapJDlXI+IhH5Tyt6bT6klWwfPDtnPiYP6g/qX2I+mVG4EUkLXT6RVMstfOdWPnyP7XrUblI+RRIyMTNsTz5Dc6jXFoBMPrztnHcNLko+A7G5z2rPRj5RmPW4Uf5BPl7Z4gaAEzk+f/pbc9CFLj4LTWb5JiUgPtuQazLgoA0+5cnzhSSP9z2ZXa0raDrgPQ==\"},\"shape\":[200],\"dtype\":\"float64\",\"order\":\"little\"}]]}}},\"view\":{\"type\":\"object\",\"name\":\"CDSView\",\"id\":\"p1372\",\"attributes\":{\"filter\":{\"type\":\"object\",\"name\":\"AllIndices\",\"id\":\"p1373\"}}},\"glyph\":{\"type\":\"object\",\"name\":\"Patch\",\"id\":\"p1368\",\"attributes\":{\"tags\":[\"apply_ranges\"],\"x\":{\"type\":\"field\",\"field\":\"x\"},\"y\":{\"type\":\"field\",\"field\":\"y\"},\"fill_color\":\"#30a2da\",\"fill_alpha\":0.5,\"hatch_color\":\"#30a2da\"}},\"selection_glyph\":{\"type\":\"object\",\"name\":\"Patch\",\"id\":\"p1374\",\"attributes\":{\"tags\":[\"apply_ranges\"],\"x\":{\"type\":\"field\",\"field\":\"x\"},\"y\":{\"type\":\"field\",\"field\":\"y\"},\"fill_color\":\"#30a2da\",\"fill_alpha\":0.5,\"hatch_color\":\"#30a2da\"}},\"nonselection_glyph\":{\"type\":\"object\",\"name\":\"Patch\",\"id\":\"p1369\",\"attributes\":{\"tags\":[\"apply_ranges\"],\"x\":{\"type\":\"field\",\"field\":\"x\"},\"y\":{\"type\":\"field\",\"field\":\"y\"},\"line_alpha\":1,\"fill_color\":\"#30a2da\",\"fill_alpha\":0.5,\"hatch_color\":\"#30a2da\",\"hatch_alpha\":0.1}},\"muted_glyph\":{\"type\":\"object\",\"name\":\"Patch\",\"id\":\"p1370\",\"attributes\":{\"tags\":[\"apply_ranges\"],\"x\":{\"type\":\"field\",\"field\":\"x\"},\"y\":{\"type\":\"field\",\"field\":\"y\"},\"line_alpha\":0.2,\"fill_color\":\"#30a2da\",\"fill_alpha\":0.2,\"hatch_color\":\"#30a2da\",\"hatch_alpha\":0.2}}}}],\"toolbar\":{\"type\":\"object\",\"name\":\"Toolbar\",\"id\":\"p1340\",\"attributes\":{\"tools\":[{\"type\":\"object\",\"name\":\"WheelZoomTool\",\"id\":\"p1329\",\"attributes\":{\"tags\":[\"hv_created\"],\"renderers\":\"auto\",\"zoom_together\":\"none\"}},{\"type\":\"object\",\"name\":\"HoverTool\",\"id\":\"p1330\",\"attributes\":{\"tags\":[\"hv_created\"],\"renderers\":[{\"id\":\"p1371\"}],\"tooltips\":[[\"Error Values\",\"@{Error_Values}\"],[\"Density\",\"@{Error_Values_density}\"]]}},{\"type\":\"object\",\"name\":\"SaveTool\",\"id\":\"p1353\"},{\"type\":\"object\",\"name\":\"PanTool\",\"id\":\"p1354\"},{\"type\":\"object\",\"name\":\"BoxZoomTool\",\"id\":\"p1355\",\"attributes\":{\"overlay\":{\"type\":\"object\",\"name\":\"BoxAnnotation\",\"id\":\"p1356\",\"attributes\":{\"syncable\":false,\"level\":\"overlay\",\"visible\":false,\"left\":{\"type\":\"number\",\"value\":\"nan\"},\"right\":{\"type\":\"number\",\"value\":\"nan\"},\"top\":{\"type\":\"number\",\"value\":\"nan\"},\"bottom\":{\"type\":\"number\",\"value\":\"nan\"},\"left_units\":\"canvas\",\"right_units\":\"canvas\",\"top_units\":\"canvas\",\"bottom_units\":\"canvas\",\"line_color\":\"black\",\"line_alpha\":1.0,\"line_width\":2,\"line_dash\":[4,4],\"fill_color\":\"lightgrey\",\"fill_alpha\":0.5}}}},{\"type\":\"object\",\"name\":\"ResetTool\",\"id\":\"p1361\"}],\"active_drag\":{\"id\":\"p1354\"},\"active_scroll\":{\"id\":\"p1329\"}}},\"left\":[{\"type\":\"object\",\"name\":\"LinearAxis\",\"id\":\"p1348\",\"attributes\":{\"ticker\":{\"type\":\"object\",\"name\":\"BasicTicker\",\"id\":\"p1349\",\"attributes\":{\"mantissas\":[1,2,5]}},\"formatter\":{\"type\":\"object\",\"name\":\"BasicTickFormatter\",\"id\":\"p1350\"},\"axis_label\":\"Density\",\"major_label_policy\":{\"type\":\"object\",\"name\":\"AllLabels\",\"id\":\"p1351\"}}}],\"below\":[{\"type\":\"object\",\"name\":\"LinearAxis\",\"id\":\"p1343\",\"attributes\":{\"ticker\":{\"type\":\"object\",\"name\":\"BasicTicker\",\"id\":\"p1344\",\"attributes\":{\"mantissas\":[1,2,5]}},\"formatter\":{\"type\":\"object\",\"name\":\"BasicTickFormatter\",\"id\":\"p1345\"},\"axis_label\":\"Error Values\",\"major_label_policy\":{\"type\":\"object\",\"name\":\"AllLabels\",\"id\":\"p1346\"}}}],\"center\":[{\"type\":\"object\",\"name\":\"Grid\",\"id\":\"p1347\",\"attributes\":{\"axis\":{\"id\":\"p1343\"},\"grid_line_color\":null}},{\"type\":\"object\",\"name\":\"Grid\",\"id\":\"p1352\",\"attributes\":{\"dimension\":1,\"axis\":{\"id\":\"p1348\"},\"grid_line_color\":null}}],\"min_border_top\":10,\"min_border_bottom\":10,\"min_border_left\":10,\"min_border_right\":10,\"output_backend\":\"webgl\"}},{\"type\":\"object\",\"name\":\"Spacer\",\"id\":\"p1376\",\"attributes\":{\"name\":\"HSpacer01785\",\"stylesheets\":[\"\\n:host(.pn-loading.pn-arc):before, .pn-loading.pn-arc:before {\\n  background-image: url(\\\"data:image/svg+xml;base64,PHN2ZyB4bWxucz0iaHR0cDovL3d3dy53My5vcmcvMjAwMC9zdmciIHN0eWxlPSJtYXJnaW46IGF1dG87IGJhY2tncm91bmQ6IG5vbmU7IGRpc3BsYXk6IGJsb2NrOyBzaGFwZS1yZW5kZXJpbmc6IGF1dG87IiB2aWV3Qm94PSIwIDAgMTAwIDEwMCIgcHJlc2VydmVBc3BlY3RSYXRpbz0ieE1pZFlNaWQiPiAgPGNpcmNsZSBjeD0iNTAiIGN5PSI1MCIgZmlsbD0ibm9uZSIgc3Ryb2tlPSIjYzNjM2MzIiBzdHJva2Utd2lkdGg9IjEwIiByPSIzNSIgc3Ryb2tlLWRhc2hhcnJheT0iMTY0LjkzMzYxNDMxMzQ2NDE1IDU2Ljk3Nzg3MTQzNzgyMTM4Ij4gICAgPGFuaW1hdGVUcmFuc2Zvcm0gYXR0cmlidXRlTmFtZT0idHJhbnNmb3JtIiB0eXBlPSJyb3RhdGUiIHJlcGVhdENvdW50PSJpbmRlZmluaXRlIiBkdXI9IjFzIiB2YWx1ZXM9IjAgNTAgNTA7MzYwIDUwIDUwIiBrZXlUaW1lcz0iMDsxIj48L2FuaW1hdGVUcmFuc2Zvcm0+ICA8L2NpcmNsZT48L3N2Zz4=\\\");\\n  background-size: auto calc(min(50%, 400px));\\n}\",{\"id\":\"p1322\"},{\"id\":\"p1320\"},{\"id\":\"p1321\"}],\"margin\":0,\"sizing_mode\":\"stretch_width\",\"align\":\"start\"}}]}}],\"defs\":[{\"type\":\"model\",\"name\":\"ReactiveHTML1\"},{\"type\":\"model\",\"name\":\"FlexBox1\",\"properties\":[{\"name\":\"align_content\",\"kind\":\"Any\",\"default\":\"flex-start\"},{\"name\":\"align_items\",\"kind\":\"Any\",\"default\":\"flex-start\"},{\"name\":\"flex_direction\",\"kind\":\"Any\",\"default\":\"row\"},{\"name\":\"flex_wrap\",\"kind\":\"Any\",\"default\":\"wrap\"},{\"name\":\"justify_content\",\"kind\":\"Any\",\"default\":\"flex-start\"}]},{\"type\":\"model\",\"name\":\"FloatPanel1\",\"properties\":[{\"name\":\"config\",\"kind\":\"Any\",\"default\":{\"type\":\"map\"}},{\"name\":\"contained\",\"kind\":\"Any\",\"default\":true},{\"name\":\"position\",\"kind\":\"Any\",\"default\":\"right-top\"},{\"name\":\"offsetx\",\"kind\":\"Any\",\"default\":null},{\"name\":\"offsety\",\"kind\":\"Any\",\"default\":null},{\"name\":\"theme\",\"kind\":\"Any\",\"default\":\"primary\"},{\"name\":\"status\",\"kind\":\"Any\",\"default\":\"normalized\"}]},{\"type\":\"model\",\"name\":\"GridStack1\",\"properties\":[{\"name\":\"mode\",\"kind\":\"Any\",\"default\":\"warn\"},{\"name\":\"ncols\",\"kind\":\"Any\",\"default\":null},{\"name\":\"nrows\",\"kind\":\"Any\",\"default\":null},{\"name\":\"allow_resize\",\"kind\":\"Any\",\"default\":true},{\"name\":\"allow_drag\",\"kind\":\"Any\",\"default\":true},{\"name\":\"state\",\"kind\":\"Any\",\"default\":[]}]},{\"type\":\"model\",\"name\":\"drag1\",\"properties\":[{\"name\":\"slider_width\",\"kind\":\"Any\",\"default\":5},{\"name\":\"slider_color\",\"kind\":\"Any\",\"default\":\"black\"},{\"name\":\"value\",\"kind\":\"Any\",\"default\":50}]},{\"type\":\"model\",\"name\":\"click1\",\"properties\":[{\"name\":\"terminal_output\",\"kind\":\"Any\",\"default\":\"\"},{\"name\":\"debug_name\",\"kind\":\"Any\",\"default\":\"\"},{\"name\":\"clears\",\"kind\":\"Any\",\"default\":0}]},{\"type\":\"model\",\"name\":\"copy_to_clipboard1\",\"properties\":[{\"name\":\"fill\",\"kind\":\"Any\",\"default\":\"none\"},{\"name\":\"value\",\"kind\":\"Any\",\"default\":null}]},{\"type\":\"model\",\"name\":\"FastWrapper1\",\"properties\":[{\"name\":\"object\",\"kind\":\"Any\",\"default\":null},{\"name\":\"style\",\"kind\":\"Any\",\"default\":null}]},{\"type\":\"model\",\"name\":\"NotificationAreaBase1\",\"properties\":[{\"name\":\"js_events\",\"kind\":\"Any\",\"default\":{\"type\":\"map\"}},{\"name\":\"position\",\"kind\":\"Any\",\"default\":\"bottom-right\"},{\"name\":\"_clear\",\"kind\":\"Any\",\"default\":0}]},{\"type\":\"model\",\"name\":\"NotificationArea1\",\"properties\":[{\"name\":\"js_events\",\"kind\":\"Any\",\"default\":{\"type\":\"map\"}},{\"name\":\"notifications\",\"kind\":\"Any\",\"default\":[]},{\"name\":\"position\",\"kind\":\"Any\",\"default\":\"bottom-right\"},{\"name\":\"_clear\",\"kind\":\"Any\",\"default\":0},{\"name\":\"types\",\"kind\":\"Any\",\"default\":[{\"type\":\"map\",\"entries\":[[\"type\",\"warning\"],[\"background\",\"#ffc107\"],[\"icon\",{\"type\":\"map\",\"entries\":[[\"className\",\"fas fa-exclamation-triangle\"],[\"tagName\",\"i\"],[\"color\",\"white\"]]}]]},{\"type\":\"map\",\"entries\":[[\"type\",\"info\"],[\"background\",\"#007bff\"],[\"icon\",{\"type\":\"map\",\"entries\":[[\"className\",\"fas fa-info-circle\"],[\"tagName\",\"i\"],[\"color\",\"white\"]]}]]}]}]},{\"type\":\"model\",\"name\":\"Notification\",\"properties\":[{\"name\":\"background\",\"kind\":\"Any\",\"default\":null},{\"name\":\"duration\",\"kind\":\"Any\",\"default\":3000},{\"name\":\"icon\",\"kind\":\"Any\",\"default\":null},{\"name\":\"message\",\"kind\":\"Any\",\"default\":\"\"},{\"name\":\"notification_type\",\"kind\":\"Any\",\"default\":null},{\"name\":\"_destroyed\",\"kind\":\"Any\",\"default\":false}]},{\"type\":\"model\",\"name\":\"TemplateActions1\",\"properties\":[{\"name\":\"open_modal\",\"kind\":\"Any\",\"default\":0},{\"name\":\"close_modal\",\"kind\":\"Any\",\"default\":0}]},{\"type\":\"model\",\"name\":\"BootstrapTemplateActions1\",\"properties\":[{\"name\":\"open_modal\",\"kind\":\"Any\",\"default\":0},{\"name\":\"close_modal\",\"kind\":\"Any\",\"default\":0}]},{\"type\":\"model\",\"name\":\"MaterialTemplateActions1\",\"properties\":[{\"name\":\"open_modal\",\"kind\":\"Any\",\"default\":0},{\"name\":\"close_modal\",\"kind\":\"Any\",\"default\":0}]}]}};\n",
       "  var render_items = [{\"docid\":\"a42b4ff7-8cce-447b-9282-be0eaf7582e9\",\"roots\":{\"p1319\":\"fe44bd6d-0177-4c62-831d-5187efc991b1\"},\"root_ids\":[\"p1319\"]}];\n",
       "  var docs = Object.values(docs_json)\n",
       "  if (!docs) {\n",
       "    return\n",
       "  }\n",
       "  const py_version = docs[0].version.replace('rc', '-rc.').replace('.dev', '-dev.')\n",
       "  function embed_document(root) {\n",
       "    var Bokeh = get_bokeh(root)\n",
       "    Bokeh.embed.embed_items_notebook(docs_json, render_items);\n",
       "    for (const render_item of render_items) {\n",
       "      for (const root_id of render_item.root_ids) {\n",
       "\tconst id_el = document.getElementById(root_id)\n",
       "\tif (id_el.children.length && (id_el.children[0].className === 'bk-root')) {\n",
       "\t  const root_el = id_el.children[0]\n",
       "\t  root_el.id = root_el.id + '-rendered'\n",
       "\t}\n",
       "      }\n",
       "    }\n",
       "  }\n",
       "  function get_bokeh(root) {\n",
       "    if (root.Bokeh === undefined) {\n",
       "      return null\n",
       "    } else if (root.Bokeh.version !== py_version) {\n",
       "      if (root.Bokeh.versions === undefined || !root.Bokeh.versions.has(py_version)) {\n",
       "\treturn null\n",
       "      }\n",
       "      return root.Bokeh.versions.get(py_version);\n",
       "    } else if (root.Bokeh.version === py_version) {\n",
       "      return root.Bokeh\n",
       "    }\n",
       "    return null\n",
       "  }\n",
       "  function is_loaded(root) {\n",
       "    var Bokeh = get_bokeh(root)\n",
       "    return (Bokeh != null && Bokeh.Panel !== undefined)\n",
       "  }\n",
       "  if (is_loaded(root)) {\n",
       "    embed_document(root);\n",
       "  } else {\n",
       "    var attempts = 0;\n",
       "    var timer = setInterval(function(root) {\n",
       "      if (is_loaded(root)) {\n",
       "        clearInterval(timer);\n",
       "        embed_document(root);\n",
       "      } else if (document.readyState == \"complete\") {\n",
       "        attempts++;\n",
       "        if (attempts > 200) {\n",
       "          clearInterval(timer);\n",
       "\t  var Bokeh = get_bokeh(root)\n",
       "\t  if (Bokeh == null || Bokeh.Panel == null) {\n",
       "            console.warn(\"Panel: ERROR: Unable to run Panel code because Bokeh or Panel library is missing\");\n",
       "\t  } else {\n",
       "\t    console.warn(\"Panel: WARNING: Attempting to render but not all required libraries could be resolved.\")\n",
       "\t    embed_document(root)\n",
       "\t  }\n",
       "        }\n",
       "      }\n",
       "    }, 25, root)\n",
       "  }\n",
       "})(window);</script>"
      ],
      "text/plain": [
       ":Distribution   [Error Values]   (Density)"
      ]
     },
     "execution_count": 652,
     "metadata": {
      "application/vnd.holoviews_exec.v0+json": {
       "id": "p1319"
      }
     },
     "output_type": "execute_result"
    }
   ],
   "source": [
    "pd.DataFrame({'Error Values': (test_residual)}).hvplot.kde()"
   ]
  },
  {
   "cell_type": "code",
   "execution_count": 653,
   "id": "af281515-ec52-4eb7-ba28-5b193823135c",
   "metadata": {},
   "outputs": [
    {
     "name": "stderr",
     "output_type": "stream",
     "text": [
      "C:\\Users\\Sergio Pérez\\anaconda3\\Lib\\site-packages\\seaborn\\_oldcore.py:1119: FutureWarning: use_inf_as_na option is deprecated and will be removed in a future version. Convert inf values to NaN before operating instead.\n",
      "  with pd.option_context('mode.use_inf_as_na', True):\n"
     ]
    },
    {
     "data": {
      "text/plain": [
       "<seaborn.axisgrid.FacetGrid at 0x2069c2ee010>"
      ]
     },
     "execution_count": 653,
     "metadata": {},
     "output_type": "execute_result"
    },
    {
     "data": {
      "image/png": "[encoded data removed]",
      "text/plain": [
       "<Figure size 500x500 with 1 Axes>"
      ]
     },
     "metadata": {},
     "output_type": "display_data"
    }
   ],
   "source": [
    "sns.displot(test_residual, bins=25, kde=True)"
   ]
  },
  {
   "cell_type": "code",
   "execution_count": 654,
   "id": "4e431d7e-e9f6-4c10-9c6d-e04c633a1810",
   "metadata": {},
   "outputs": [
    {
     "data": {
      "text/plain": [
       "<matplotlib.lines.Line2D at 0x2069d39b290>"
      ]
     },
     "execution_count": 654,
     "metadata": {},
     "output_type": "execute_result"
    },
    {
     "data": {
      "image/png": "[encoded data removed]",
      "text/plain": [
       "<Figure size 640x480 with 1 Axes>"
      ]
     },
     "metadata": {},
     "output_type": "display_data"
    }
   ],
   "source": [
    "sns.scatterplot(x=Y_test, y=test_residual)\n",
    "\n",
    "plt.axhline(y=0, color='r', ls='--')"
   ]
  }
 ],
 "metadata": {
  "kernelspec": {
   "display_name": "Python 3 (ipykernel)",
   "language": "python",
   "name": "python3"
  },
  "language_info": {
   "codemirror_mode": {
    "name": "ipython",
    "version": 3
   },
   "file_extension": ".py",
   "mimetype": "text/x-python",
   "name": "python",
   "nbconvert_exporter": "python",
   "pygments_lexer": "ipython3",
   "version": "3.11.7"
  }
 },
 "nbformat": 4,
 "nbformat_minor": 5
}
